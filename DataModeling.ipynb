{
 "cells": [
  {
   "cell_type": "code",
   "execution_count": 1,
   "id": "f4999fdb-598d-4c21-a753-9201b2dac2d2",
   "metadata": {},
   "outputs": [],
   "source": [
    "import json\n",
    "import pandas as pd\n",
    "import numpy as np\n",
    "import datetime\n",
    "import matplotlib.pyplot as plt\n",
    "import matplotlib\n",
    "import scipy.stats as ss\n",
    "import plotly.express as px\n",
    "import seaborn as sns\n",
    "import nltk\n",
    "from nltk.sentiment import SentimentIntensityAnalyzer\n",
    "plt.rcParams['figure.figsize'] = [16, 9]"
   ]
  },
  {
   "cell_type": "code",
   "execution_count": 3,
   "id": "b3899268-3069-44ad-9f37-9484f7f958c9",
   "metadata": {},
   "outputs": [],
   "source": [
    "reviews_df = pd.read_pickle('cleaned_review.pkl')"
   ]
  },
  {
   "cell_type": "code",
   "execution_count": 4,
   "id": "c68965a2-0e7d-4d04-a285-9c9e63086727",
   "metadata": {},
   "outputs": [],
   "source": [
    "reviews_df['total_votes'] = reviews_df[['useful', 'funny', 'cool']].sum(axis=1)"
   ]
  },
  {
   "cell_type": "code",
   "execution_count": 60,
   "id": "e8de9989-3c67-41c6-ad69-780abfcd2616",
   "metadata": {},
   "outputs": [
    {
     "data": {
      "text/plain": [
       "(4337534, 14)"
      ]
     },
     "execution_count": 60,
     "metadata": {},
     "output_type": "execute_result"
    }
   ],
   "source": [
    "reviews_df.shape"
   ]
  },
  {
   "cell_type": "code",
   "execution_count": 6,
   "id": "fe4b2786-b32a-464e-ba7a-bf359af76947",
   "metadata": {},
   "outputs": [],
   "source": [
    "reviews = reviews_df.reset_index().set_index('review_id')"
   ]
  },
  {
   "cell_type": "code",
   "execution_count": 7,
   "id": "9a1d1861-23a0-406f-b8fb-ad5ba5809a1e",
   "metadata": {},
   "outputs": [],
   "source": [
    "reviews.date = pd.to_datetime(reviews.date)"
   ]
  },
  {
   "cell_type": "code",
   "execution_count": 8,
   "id": "6749cef9-9873-494e-8017-eb4bc7d902f9",
   "metadata": {},
   "outputs": [],
   "source": [
    "shift_stars = reviews[['stars']].shift(1)\n",
    "reviews_subset = reviews[['business_id', 'date']].join(shift_stars)"
   ]
  },
  {
   "cell_type": "code",
   "execution_count": 9,
   "id": "b40927a3-58e0-4fda-a435-6b5e5967c160",
   "metadata": {},
   "outputs": [],
   "source": [
    "rolling_stars = reviews_subset.groupby('business_id').rolling('180D', on='date').mean()"
   ]
  },
  {
   "cell_type": "code",
   "execution_count": 10,
   "id": "acb24e3c-2a46-456e-8504-2f4faaa3de54",
   "metadata": {},
   "outputs": [],
   "source": [
    "rolling_stars['stars'] = rolling_stars[['stars']].groupby('business_id').transform(lambda x: x.fillna(x.mean()))"
   ]
  },
  {
   "cell_type": "code",
   "execution_count": 11,
   "id": "56c3ab3f-3500-4fc2-9fcb-33f64479a0ff",
   "metadata": {},
   "outputs": [],
   "source": [
    "rolling_stars = rolling_stars.reset_index()\n",
    "reviews_df = reviews_df.reset_index()"
   ]
  },
  {
   "cell_type": "code",
   "execution_count": 12,
   "id": "be2bd801-0264-42fa-a9c6-e2df40e26874",
   "metadata": {},
   "outputs": [
    {
     "data": {
      "text/html": [
       "<div>\n",
       "<style scoped>\n",
       "    .dataframe tbody tr th:only-of-type {\n",
       "        vertical-align: middle;\n",
       "    }\n",
       "\n",
       "    .dataframe tbody tr th {\n",
       "        vertical-align: top;\n",
       "    }\n",
       "\n",
       "    .dataframe thead th {\n",
       "        text-align: right;\n",
       "    }\n",
       "</style>\n",
       "<table border=\"1\" class=\"dataframe\">\n",
       "  <thead>\n",
       "    <tr style=\"text-align: right;\">\n",
       "      <th></th>\n",
       "      <th>business_id</th>\n",
       "      <th>review_id</th>\n",
       "      <th>date</th>\n",
       "      <th>stars</th>\n",
       "    </tr>\n",
       "  </thead>\n",
       "  <tbody>\n",
       "    <tr>\n",
       "      <th>0</th>\n",
       "      <td>--164t1nclzzmca7eDiJMw</td>\n",
       "      <td>HcZ2W-oRHgnP6Zs0xYfoUw</td>\n",
       "      <td>2009-03-17</td>\n",
       "      <td>4.025010</td>\n",
       "    </tr>\n",
       "    <tr>\n",
       "      <th>1</th>\n",
       "      <td>--164t1nclzzmca7eDiJMw</td>\n",
       "      <td>6kurfVrLY9LuZnH-5GGCgQ</td>\n",
       "      <td>2009-03-24</td>\n",
       "      <td>4.000000</td>\n",
       "    </tr>\n",
       "    <tr>\n",
       "      <th>2</th>\n",
       "      <td>--164t1nclzzmca7eDiJMw</td>\n",
       "      <td>eKTlMEpr163ZegnJmHYrqA</td>\n",
       "      <td>2009-03-24</td>\n",
       "      <td>4.000000</td>\n",
       "    </tr>\n",
       "    <tr>\n",
       "      <th>3</th>\n",
       "      <td>--164t1nclzzmca7eDiJMw</td>\n",
       "      <td>fvuwn2Aa3SNGeCTlC3O8Ew</td>\n",
       "      <td>2009-03-24</td>\n",
       "      <td>3.666667</td>\n",
       "    </tr>\n",
       "    <tr>\n",
       "      <th>4</th>\n",
       "      <td>--164t1nclzzmca7eDiJMw</td>\n",
       "      <td>qUCBZ2I5Cuf3J4Yzn5k21g</td>\n",
       "      <td>2009-05-15</td>\n",
       "      <td>3.000000</td>\n",
       "    </tr>\n",
       "  </tbody>\n",
       "</table>\n",
       "</div>"
      ],
      "text/plain": [
       "              business_id               review_id       date     stars\n",
       "0  --164t1nclzzmca7eDiJMw  HcZ2W-oRHgnP6Zs0xYfoUw 2009-03-17  4.025010\n",
       "1  --164t1nclzzmca7eDiJMw  6kurfVrLY9LuZnH-5GGCgQ 2009-03-24  4.000000\n",
       "2  --164t1nclzzmca7eDiJMw  eKTlMEpr163ZegnJmHYrqA 2009-03-24  4.000000\n",
       "3  --164t1nclzzmca7eDiJMw  fvuwn2Aa3SNGeCTlC3O8Ew 2009-03-24  3.666667\n",
       "4  --164t1nclzzmca7eDiJMw  qUCBZ2I5Cuf3J4Yzn5k21g 2009-05-15  3.000000"
      ]
     },
     "execution_count": 12,
     "metadata": {},
     "output_type": "execute_result"
    }
   ],
   "source": [
    "rolling_stars.head()"
   ]
  },
  {
   "cell_type": "code",
   "execution_count": 13,
   "id": "c558d7c2-8232-494a-870d-538009080671",
   "metadata": {},
   "outputs": [
    {
     "data": {
      "text/html": [
       "<div>\n",
       "<style scoped>\n",
       "    .dataframe tbody tr th:only-of-type {\n",
       "        vertical-align: middle;\n",
       "    }\n",
       "\n",
       "    .dataframe tbody tr th {\n",
       "        vertical-align: top;\n",
       "    }\n",
       "\n",
       "    .dataframe thead th {\n",
       "        text-align: right;\n",
       "    }\n",
       "</style>\n",
       "<table border=\"1\" class=\"dataframe\">\n",
       "  <thead>\n",
       "    <tr style=\"text-align: right;\">\n",
       "      <th></th>\n",
       "      <th>business_id</th>\n",
       "      <th>review_id</th>\n",
       "      <th>user_id</th>\n",
       "      <th>stars</th>\n",
       "      <th>useful</th>\n",
       "      <th>funny</th>\n",
       "      <th>cool</th>\n",
       "      <th>text</th>\n",
       "      <th>date</th>\n",
       "      <th>total_votes</th>\n",
       "      <th>prev6M_rating</th>\n",
       "    </tr>\n",
       "  </thead>\n",
       "  <tbody>\n",
       "    <tr>\n",
       "      <th>0</th>\n",
       "      <td>--164t1nclzzmca7eDiJMw</td>\n",
       "      <td>HcZ2W-oRHgnP6Zs0xYfoUw</td>\n",
       "      <td>InDrrRvQ9f732YGPX4Ixmg</td>\n",
       "      <td>4.0</td>\n",
       "      <td>9</td>\n",
       "      <td>11</td>\n",
       "      <td>10</td>\n",
       "      <td>I don't want to give away too much since it wa...</td>\n",
       "      <td>2009-03-17</td>\n",
       "      <td>30</td>\n",
       "      <td>4.025010</td>\n",
       "    </tr>\n",
       "    <tr>\n",
       "      <th>1</th>\n",
       "      <td>--164t1nclzzmca7eDiJMw</td>\n",
       "      <td>6kurfVrLY9LuZnH-5GGCgQ</td>\n",
       "      <td>iktHs9VX9xK4dJW9szxRBA</td>\n",
       "      <td>4.0</td>\n",
       "      <td>1</td>\n",
       "      <td>0</td>\n",
       "      <td>1</td>\n",
       "      <td>Yum, yum. Good food, big portions and nice pri...</td>\n",
       "      <td>2009-03-24</td>\n",
       "      <td>2</td>\n",
       "      <td>4.000000</td>\n",
       "    </tr>\n",
       "    <tr>\n",
       "      <th>2</th>\n",
       "      <td>--164t1nclzzmca7eDiJMw</td>\n",
       "      <td>eKTlMEpr163ZegnJmHYrqA</td>\n",
       "      <td>InDrrRvQ9f732YGPX4Ixmg</td>\n",
       "      <td>3.0</td>\n",
       "      <td>5</td>\n",
       "      <td>5</td>\n",
       "      <td>4</td>\n",
       "      <td>Well, after one day at the South Congress loca...</td>\n",
       "      <td>2009-03-24</td>\n",
       "      <td>14</td>\n",
       "      <td>4.000000</td>\n",
       "    </tr>\n",
       "    <tr>\n",
       "      <th>3</th>\n",
       "      <td>--164t1nclzzmca7eDiJMw</td>\n",
       "      <td>fvuwn2Aa3SNGeCTlC3O8Ew</td>\n",
       "      <td>nHnNraNUct25HJJTRAGYkA</td>\n",
       "      <td>1.0</td>\n",
       "      <td>2</td>\n",
       "      <td>2</td>\n",
       "      <td>2</td>\n",
       "      <td>Me So Hungry earns 1 star because the owner's ...</td>\n",
       "      <td>2009-03-24</td>\n",
       "      <td>6</td>\n",
       "      <td>3.666667</td>\n",
       "    </tr>\n",
       "    <tr>\n",
       "      <th>4</th>\n",
       "      <td>--164t1nclzzmca7eDiJMw</td>\n",
       "      <td>qUCBZ2I5Cuf3J4Yzn5k21g</td>\n",
       "      <td>18_WSz4VPqieDzBsSvCMmA</td>\n",
       "      <td>5.0</td>\n",
       "      <td>1</td>\n",
       "      <td>0</td>\n",
       "      <td>0</td>\n",
       "      <td>I work across the street from Me So Hungry and...</td>\n",
       "      <td>2009-05-15</td>\n",
       "      <td>1</td>\n",
       "      <td>3.000000</td>\n",
       "    </tr>\n",
       "  </tbody>\n",
       "</table>\n",
       "</div>"
      ],
      "text/plain": [
       "              business_id               review_id                 user_id  \\\n",
       "0  --164t1nclzzmca7eDiJMw  HcZ2W-oRHgnP6Zs0xYfoUw  InDrrRvQ9f732YGPX4Ixmg   \n",
       "1  --164t1nclzzmca7eDiJMw  6kurfVrLY9LuZnH-5GGCgQ  iktHs9VX9xK4dJW9szxRBA   \n",
       "2  --164t1nclzzmca7eDiJMw  eKTlMEpr163ZegnJmHYrqA  InDrrRvQ9f732YGPX4Ixmg   \n",
       "3  --164t1nclzzmca7eDiJMw  fvuwn2Aa3SNGeCTlC3O8Ew  nHnNraNUct25HJJTRAGYkA   \n",
       "4  --164t1nclzzmca7eDiJMw  qUCBZ2I5Cuf3J4Yzn5k21g  18_WSz4VPqieDzBsSvCMmA   \n",
       "\n",
       "   stars  useful  funny  cool  \\\n",
       "0    4.0       9     11    10   \n",
       "1    4.0       1      0     1   \n",
       "2    3.0       5      5     4   \n",
       "3    1.0       2      2     2   \n",
       "4    5.0       1      0     0   \n",
       "\n",
       "                                                text        date  total_votes  \\\n",
       "0  I don't want to give away too much since it wa...  2009-03-17           30   \n",
       "1  Yum, yum. Good food, big portions and nice pri...  2009-03-24            2   \n",
       "2  Well, after one day at the South Congress loca...  2009-03-24           14   \n",
       "3  Me So Hungry earns 1 star because the owner's ...  2009-03-24            6   \n",
       "4  I work across the street from Me So Hungry and...  2009-05-15            1   \n",
       "\n",
       "   prev6M_rating  \n",
       "0       4.025010  \n",
       "1       4.000000  \n",
       "2       4.000000  \n",
       "3       3.666667  \n",
       "4       3.000000  "
      ]
     },
     "execution_count": 13,
     "metadata": {},
     "output_type": "execute_result"
    }
   ],
   "source": [
    "# merge the rolling_stars['stars'] with the reviews_df['stars']\n",
    "reviews_df['prev6M_rating'] = rolling_stars['stars']\n",
    "reviews_df.head()"
   ]
  },
  {
   "cell_type": "code",
   "execution_count": 14,
   "id": "0fb7dd61-9d57-48c8-b95f-0d04c9816429",
   "metadata": {},
   "outputs": [],
   "source": [
    "temp = rolling_stars.groupby('business_id').rolling('180D', on='date').count()"
   ]
  },
  {
   "cell_type": "code",
   "execution_count": 15,
   "id": "67bae930-9396-4957-a2c6-734c7a7b8a64",
   "metadata": {},
   "outputs": [],
   "source": [
    "reviews_df['prev6M_count'] = temp.drop(columns='business_id').reset_index().stars - 1"
   ]
  },
  {
   "cell_type": "code",
   "execution_count": 16,
   "id": "27f23542-9c6e-487b-ac31-4dd3f5816d9c",
   "metadata": {},
   "outputs": [
    {
     "data": {
      "text/html": [
       "<div>\n",
       "<style scoped>\n",
       "    .dataframe tbody tr th:only-of-type {\n",
       "        vertical-align: middle;\n",
       "    }\n",
       "\n",
       "    .dataframe tbody tr th {\n",
       "        vertical-align: top;\n",
       "    }\n",
       "\n",
       "    .dataframe thead th {\n",
       "        text-align: right;\n",
       "    }\n",
       "</style>\n",
       "<table border=\"1\" class=\"dataframe\">\n",
       "  <thead>\n",
       "    <tr style=\"text-align: right;\">\n",
       "      <th></th>\n",
       "      <th>business_id</th>\n",
       "      <th>review_id</th>\n",
       "      <th>user_id</th>\n",
       "      <th>stars</th>\n",
       "      <th>useful</th>\n",
       "      <th>funny</th>\n",
       "      <th>cool</th>\n",
       "      <th>text</th>\n",
       "      <th>date</th>\n",
       "      <th>total_votes</th>\n",
       "      <th>prev6M_rating</th>\n",
       "      <th>prev6M_count</th>\n",
       "    </tr>\n",
       "  </thead>\n",
       "  <tbody>\n",
       "    <tr>\n",
       "      <th>0</th>\n",
       "      <td>--164t1nclzzmca7eDiJMw</td>\n",
       "      <td>HcZ2W-oRHgnP6Zs0xYfoUw</td>\n",
       "      <td>InDrrRvQ9f732YGPX4Ixmg</td>\n",
       "      <td>4.0</td>\n",
       "      <td>9</td>\n",
       "      <td>11</td>\n",
       "      <td>10</td>\n",
       "      <td>I don't want to give away too much since it wa...</td>\n",
       "      <td>2009-03-17</td>\n",
       "      <td>30</td>\n",
       "      <td>4.025010</td>\n",
       "      <td>0.0</td>\n",
       "    </tr>\n",
       "    <tr>\n",
       "      <th>1</th>\n",
       "      <td>--164t1nclzzmca7eDiJMw</td>\n",
       "      <td>6kurfVrLY9LuZnH-5GGCgQ</td>\n",
       "      <td>iktHs9VX9xK4dJW9szxRBA</td>\n",
       "      <td>4.0</td>\n",
       "      <td>1</td>\n",
       "      <td>0</td>\n",
       "      <td>1</td>\n",
       "      <td>Yum, yum. Good food, big portions and nice pri...</td>\n",
       "      <td>2009-03-24</td>\n",
       "      <td>2</td>\n",
       "      <td>4.000000</td>\n",
       "      <td>1.0</td>\n",
       "    </tr>\n",
       "    <tr>\n",
       "      <th>2</th>\n",
       "      <td>--164t1nclzzmca7eDiJMw</td>\n",
       "      <td>eKTlMEpr163ZegnJmHYrqA</td>\n",
       "      <td>InDrrRvQ9f732YGPX4Ixmg</td>\n",
       "      <td>3.0</td>\n",
       "      <td>5</td>\n",
       "      <td>5</td>\n",
       "      <td>4</td>\n",
       "      <td>Well, after one day at the South Congress loca...</td>\n",
       "      <td>2009-03-24</td>\n",
       "      <td>14</td>\n",
       "      <td>4.000000</td>\n",
       "      <td>2.0</td>\n",
       "    </tr>\n",
       "    <tr>\n",
       "      <th>3</th>\n",
       "      <td>--164t1nclzzmca7eDiJMw</td>\n",
       "      <td>fvuwn2Aa3SNGeCTlC3O8Ew</td>\n",
       "      <td>nHnNraNUct25HJJTRAGYkA</td>\n",
       "      <td>1.0</td>\n",
       "      <td>2</td>\n",
       "      <td>2</td>\n",
       "      <td>2</td>\n",
       "      <td>Me So Hungry earns 1 star because the owner's ...</td>\n",
       "      <td>2009-03-24</td>\n",
       "      <td>6</td>\n",
       "      <td>3.666667</td>\n",
       "      <td>3.0</td>\n",
       "    </tr>\n",
       "    <tr>\n",
       "      <th>4</th>\n",
       "      <td>--164t1nclzzmca7eDiJMw</td>\n",
       "      <td>qUCBZ2I5Cuf3J4Yzn5k21g</td>\n",
       "      <td>18_WSz4VPqieDzBsSvCMmA</td>\n",
       "      <td>5.0</td>\n",
       "      <td>1</td>\n",
       "      <td>0</td>\n",
       "      <td>0</td>\n",
       "      <td>I work across the street from Me So Hungry and...</td>\n",
       "      <td>2009-05-15</td>\n",
       "      <td>1</td>\n",
       "      <td>3.000000</td>\n",
       "      <td>4.0</td>\n",
       "    </tr>\n",
       "  </tbody>\n",
       "</table>\n",
       "</div>"
      ],
      "text/plain": [
       "              business_id               review_id                 user_id  \\\n",
       "0  --164t1nclzzmca7eDiJMw  HcZ2W-oRHgnP6Zs0xYfoUw  InDrrRvQ9f732YGPX4Ixmg   \n",
       "1  --164t1nclzzmca7eDiJMw  6kurfVrLY9LuZnH-5GGCgQ  iktHs9VX9xK4dJW9szxRBA   \n",
       "2  --164t1nclzzmca7eDiJMw  eKTlMEpr163ZegnJmHYrqA  InDrrRvQ9f732YGPX4Ixmg   \n",
       "3  --164t1nclzzmca7eDiJMw  fvuwn2Aa3SNGeCTlC3O8Ew  nHnNraNUct25HJJTRAGYkA   \n",
       "4  --164t1nclzzmca7eDiJMw  qUCBZ2I5Cuf3J4Yzn5k21g  18_WSz4VPqieDzBsSvCMmA   \n",
       "\n",
       "   stars  useful  funny  cool  \\\n",
       "0    4.0       9     11    10   \n",
       "1    4.0       1      0     1   \n",
       "2    3.0       5      5     4   \n",
       "3    1.0       2      2     2   \n",
       "4    5.0       1      0     0   \n",
       "\n",
       "                                                text        date  total_votes  \\\n",
       "0  I don't want to give away too much since it wa...  2009-03-17           30   \n",
       "1  Yum, yum. Good food, big portions and nice pri...  2009-03-24            2   \n",
       "2  Well, after one day at the South Congress loca...  2009-03-24           14   \n",
       "3  Me So Hungry earns 1 star because the owner's ...  2009-03-24            6   \n",
       "4  I work across the street from Me So Hungry and...  2009-05-15            1   \n",
       "\n",
       "   prev6M_rating  prev6M_count  \n",
       "0       4.025010           0.0  \n",
       "1       4.000000           1.0  \n",
       "2       4.000000           2.0  \n",
       "3       3.666667           3.0  \n",
       "4       3.000000           4.0  "
      ]
     },
     "execution_count": 16,
     "metadata": {},
     "output_type": "execute_result"
    }
   ],
   "source": [
    "reviews_df.head()"
   ]
  },
  {
   "cell_type": "code",
   "execution_count": 35,
   "id": "5f03bf49-8482-4d2a-ae46-afa15e8b4c80",
   "metadata": {},
   "outputs": [
    {
     "name": "stderr",
     "output_type": "stream",
     "text": [
      "<ipython-input-35-86bd8d2fe144>:3: SettingWithCopyWarning: \n",
      "A value is trying to be set on a copy of a slice from a DataFrame.\n",
      "Try using .loc[row_indexer,col_indexer] = value instead\n",
      "\n",
      "See the caveats in the documentation: https://pandas.pydata.org/pandas-docs/stable/user_guide/indexing.html#returning-a-view-versus-a-copy\n",
      "  subset1['date'] = pd.to_datetime(subset1['date'])\n"
     ]
    }
   ],
   "source": [
    "# summarize based on a forward-looking window\n",
    "subset1 = reviews_df[['business_id', 'date', 'review_id', 'stars']]\n",
    "subset1['date'] = pd.to_datetime(subset1['date'])\n",
    "subset1 = subset1.set_index(['business_id', 'date', 'review_id'])"
   ]
  },
  {
   "cell_type": "code",
   "execution_count": 37,
   "id": "af08cbfb-8b0c-4de1-8321-34bc4d5268a1",
   "metadata": {},
   "outputs": [],
   "source": [
    "# Ended up using a rather crude way \n",
    "# doing it based on actual date takes a long time - but can be worked on in the future\n",
    "indexer = pd.api.indexers.FixedForwardWindowIndexer(window_size=20)\n",
    "subset1_forward = subset1.groupby('business_id').rolling(window=indexer, min_periods=1).mean()"
   ]
  },
  {
   "cell_type": "code",
   "execution_count": 56,
   "id": "3aefad70-9d35-4527-bfb7-7da0c0c7768d",
   "metadata": {},
   "outputs": [
    {
     "data": {
      "text/html": [
       "<div>\n",
       "<style scoped>\n",
       "    .dataframe tbody tr th:only-of-type {\n",
       "        vertical-align: middle;\n",
       "    }\n",
       "\n",
       "    .dataframe tbody tr th {\n",
       "        vertical-align: top;\n",
       "    }\n",
       "\n",
       "    .dataframe thead th {\n",
       "        text-align: right;\n",
       "    }\n",
       "</style>\n",
       "<table border=\"1\" class=\"dataframe\">\n",
       "  <thead>\n",
       "    <tr style=\"text-align: right;\">\n",
       "      <th></th>\n",
       "      <th>business_id</th>\n",
       "      <th>review_id</th>\n",
       "      <th>user_id</th>\n",
       "      <th>stars</th>\n",
       "      <th>useful</th>\n",
       "      <th>funny</th>\n",
       "      <th>cool</th>\n",
       "      <th>text</th>\n",
       "      <th>date</th>\n",
       "      <th>total_votes</th>\n",
       "      <th>prev6M_rating</th>\n",
       "      <th>prev6M_count</th>\n",
       "      <th>projected6M_rating</th>\n",
       "    </tr>\n",
       "  </thead>\n",
       "  <tbody>\n",
       "    <tr>\n",
       "      <th>0</th>\n",
       "      <td>--164t1nclzzmca7eDiJMw</td>\n",
       "      <td>HcZ2W-oRHgnP6Zs0xYfoUw</td>\n",
       "      <td>InDrrRvQ9f732YGPX4Ixmg</td>\n",
       "      <td>4.0</td>\n",
       "      <td>9</td>\n",
       "      <td>11</td>\n",
       "      <td>10</td>\n",
       "      <td>I don't want to give away too much since it wa...</td>\n",
       "      <td>2009-03-17</td>\n",
       "      <td>30</td>\n",
       "      <td>4.025010</td>\n",
       "      <td>0.0</td>\n",
       "      <td>4.40</td>\n",
       "    </tr>\n",
       "    <tr>\n",
       "      <th>1</th>\n",
       "      <td>--164t1nclzzmca7eDiJMw</td>\n",
       "      <td>6kurfVrLY9LuZnH-5GGCgQ</td>\n",
       "      <td>iktHs9VX9xK4dJW9szxRBA</td>\n",
       "      <td>4.0</td>\n",
       "      <td>1</td>\n",
       "      <td>0</td>\n",
       "      <td>1</td>\n",
       "      <td>Yum, yum. Good food, big portions and nice pri...</td>\n",
       "      <td>2009-03-24</td>\n",
       "      <td>2</td>\n",
       "      <td>4.000000</td>\n",
       "      <td>1.0</td>\n",
       "      <td>4.45</td>\n",
       "    </tr>\n",
       "    <tr>\n",
       "      <th>2</th>\n",
       "      <td>--164t1nclzzmca7eDiJMw</td>\n",
       "      <td>eKTlMEpr163ZegnJmHYrqA</td>\n",
       "      <td>InDrrRvQ9f732YGPX4Ixmg</td>\n",
       "      <td>3.0</td>\n",
       "      <td>5</td>\n",
       "      <td>5</td>\n",
       "      <td>4</td>\n",
       "      <td>Well, after one day at the South Congress loca...</td>\n",
       "      <td>2009-03-24</td>\n",
       "      <td>14</td>\n",
       "      <td>4.000000</td>\n",
       "      <td>2.0</td>\n",
       "      <td>4.50</td>\n",
       "    </tr>\n",
       "    <tr>\n",
       "      <th>3</th>\n",
       "      <td>--164t1nclzzmca7eDiJMw</td>\n",
       "      <td>fvuwn2Aa3SNGeCTlC3O8Ew</td>\n",
       "      <td>nHnNraNUct25HJJTRAGYkA</td>\n",
       "      <td>1.0</td>\n",
       "      <td>2</td>\n",
       "      <td>2</td>\n",
       "      <td>2</td>\n",
       "      <td>Me So Hungry earns 1 star because the owner's ...</td>\n",
       "      <td>2009-03-24</td>\n",
       "      <td>6</td>\n",
       "      <td>3.666667</td>\n",
       "      <td>3.0</td>\n",
       "      <td>4.55</td>\n",
       "    </tr>\n",
       "    <tr>\n",
       "      <th>4</th>\n",
       "      <td>--164t1nclzzmca7eDiJMw</td>\n",
       "      <td>qUCBZ2I5Cuf3J4Yzn5k21g</td>\n",
       "      <td>18_WSz4VPqieDzBsSvCMmA</td>\n",
       "      <td>5.0</td>\n",
       "      <td>1</td>\n",
       "      <td>0</td>\n",
       "      <td>0</td>\n",
       "      <td>I work across the street from Me So Hungry and...</td>\n",
       "      <td>2009-05-15</td>\n",
       "      <td>1</td>\n",
       "      <td>3.000000</td>\n",
       "      <td>4.0</td>\n",
       "      <td>4.75</td>\n",
       "    </tr>\n",
       "  </tbody>\n",
       "</table>\n",
       "</div>"
      ],
      "text/plain": [
       "              business_id               review_id                 user_id  \\\n",
       "0  --164t1nclzzmca7eDiJMw  HcZ2W-oRHgnP6Zs0xYfoUw  InDrrRvQ9f732YGPX4Ixmg   \n",
       "1  --164t1nclzzmca7eDiJMw  6kurfVrLY9LuZnH-5GGCgQ  iktHs9VX9xK4dJW9szxRBA   \n",
       "2  --164t1nclzzmca7eDiJMw  eKTlMEpr163ZegnJmHYrqA  InDrrRvQ9f732YGPX4Ixmg   \n",
       "3  --164t1nclzzmca7eDiJMw  fvuwn2Aa3SNGeCTlC3O8Ew  nHnNraNUct25HJJTRAGYkA   \n",
       "4  --164t1nclzzmca7eDiJMw  qUCBZ2I5Cuf3J4Yzn5k21g  18_WSz4VPqieDzBsSvCMmA   \n",
       "\n",
       "   stars  useful  funny  cool  \\\n",
       "0    4.0       9     11    10   \n",
       "1    4.0       1      0     1   \n",
       "2    3.0       5      5     4   \n",
       "3    1.0       2      2     2   \n",
       "4    5.0       1      0     0   \n",
       "\n",
       "                                                text        date  total_votes  \\\n",
       "0  I don't want to give away too much since it wa...  2009-03-17           30   \n",
       "1  Yum, yum. Good food, big portions and nice pri...  2009-03-24            2   \n",
       "2  Well, after one day at the South Congress loca...  2009-03-24           14   \n",
       "3  Me So Hungry earns 1 star because the owner's ...  2009-03-24            6   \n",
       "4  I work across the street from Me So Hungry and...  2009-05-15            1   \n",
       "\n",
       "   prev6M_rating  prev6M_count  projected6M_rating  \n",
       "0       4.025010           0.0                4.40  \n",
       "1       4.000000           1.0                4.45  \n",
       "2       4.000000           2.0                4.50  \n",
       "3       3.666667           3.0                4.55  \n",
       "4       3.000000           4.0                4.75  "
      ]
     },
     "execution_count": 56,
     "metadata": {},
     "output_type": "execute_result"
    }
   ],
   "source": [
    "reviews_df['projected6M_rating'] = subset1_forward.reset_index().stars\n",
    "reviews_df.head()"
   ]
  },
  {
   "cell_type": "code",
   "execution_count": 57,
   "id": "2b8f44e1-ee65-4d83-b3ca-0a1bc94028dc",
   "metadata": {},
   "outputs": [],
   "source": [
    "reviews_df.to_pickle('rollingDataIncluded.pkl')"
   ]
  },
  {
   "cell_type": "code",
   "execution_count": 59,
   "id": "77c3ffa7-74ba-490b-b560-7c1694bb1a68",
   "metadata": {},
   "outputs": [],
   "source": [
    "sia = SentimentIntensityAnalyzer()\n",
    "reviews_df['polarity_score'] = reviews_df['text'].map(sia.polarity_scores, na_action='ignore')"
   ]
  },
  {
   "cell_type": "code",
   "execution_count": 62,
   "id": "f19e6c38-7a78-4a3c-87a0-708f44f81bdf",
   "metadata": {},
   "outputs": [],
   "source": [
    "reviews_df.to_pickle('withPolarityScore.pkl')"
   ]
  },
  {
   "cell_type": "code",
   "execution_count": 2,
   "id": "bf16600b-56d1-4ec6-b8c6-66d9b31ee43a",
   "metadata": {},
   "outputs": [],
   "source": [
    "reviews_df = pd.read_pickle('withPolarityScore.pkl')"
   ]
  },
  {
   "cell_type": "code",
   "execution_count": 3,
   "id": "93259016-79b7-4efa-8d85-82fa102c601b",
   "metadata": {},
   "outputs": [
    {
     "data": {
      "text/html": [
       "<div>\n",
       "<style scoped>\n",
       "    .dataframe tbody tr th:only-of-type {\n",
       "        vertical-align: middle;\n",
       "    }\n",
       "\n",
       "    .dataframe tbody tr th {\n",
       "        vertical-align: top;\n",
       "    }\n",
       "\n",
       "    .dataframe thead th {\n",
       "        text-align: right;\n",
       "    }\n",
       "</style>\n",
       "<table border=\"1\" class=\"dataframe\">\n",
       "  <thead>\n",
       "    <tr style=\"text-align: right;\">\n",
       "      <th></th>\n",
       "      <th>business_id</th>\n",
       "      <th>review_id</th>\n",
       "      <th>user_id</th>\n",
       "      <th>stars</th>\n",
       "      <th>useful</th>\n",
       "      <th>funny</th>\n",
       "      <th>cool</th>\n",
       "      <th>text</th>\n",
       "      <th>date</th>\n",
       "      <th>total_votes</th>\n",
       "      <th>prev6M_rating</th>\n",
       "      <th>prev6M_count</th>\n",
       "      <th>projected6M_rating</th>\n",
       "      <th>polarity_score</th>\n",
       "    </tr>\n",
       "  </thead>\n",
       "  <tbody>\n",
       "    <tr>\n",
       "      <th>0</th>\n",
       "      <td>--164t1nclzzmca7eDiJMw</td>\n",
       "      <td>HcZ2W-oRHgnP6Zs0xYfoUw</td>\n",
       "      <td>InDrrRvQ9f732YGPX4Ixmg</td>\n",
       "      <td>4.0</td>\n",
       "      <td>9</td>\n",
       "      <td>11</td>\n",
       "      <td>10</td>\n",
       "      <td>I don't want to give away too much since it wa...</td>\n",
       "      <td>2009-03-17</td>\n",
       "      <td>30</td>\n",
       "      <td>4.025010</td>\n",
       "      <td>0.0</td>\n",
       "      <td>4.40</td>\n",
       "      <td>{'neg': 0.048, 'neu': 0.856, 'pos': 0.096, 'co...</td>\n",
       "    </tr>\n",
       "    <tr>\n",
       "      <th>1</th>\n",
       "      <td>--164t1nclzzmca7eDiJMw</td>\n",
       "      <td>6kurfVrLY9LuZnH-5GGCgQ</td>\n",
       "      <td>iktHs9VX9xK4dJW9szxRBA</td>\n",
       "      <td>4.0</td>\n",
       "      <td>1</td>\n",
       "      <td>0</td>\n",
       "      <td>1</td>\n",
       "      <td>Yum, yum. Good food, big portions and nice pri...</td>\n",
       "      <td>2009-03-24</td>\n",
       "      <td>2</td>\n",
       "      <td>4.000000</td>\n",
       "      <td>1.0</td>\n",
       "      <td>4.45</td>\n",
       "      <td>{'neg': 0.0, 'neu': 0.588, 'pos': 0.412, 'comp...</td>\n",
       "    </tr>\n",
       "    <tr>\n",
       "      <th>2</th>\n",
       "      <td>--164t1nclzzmca7eDiJMw</td>\n",
       "      <td>eKTlMEpr163ZegnJmHYrqA</td>\n",
       "      <td>InDrrRvQ9f732YGPX4Ixmg</td>\n",
       "      <td>3.0</td>\n",
       "      <td>5</td>\n",
       "      <td>5</td>\n",
       "      <td>4</td>\n",
       "      <td>Well, after one day at the South Congress loca...</td>\n",
       "      <td>2009-03-24</td>\n",
       "      <td>14</td>\n",
       "      <td>4.000000</td>\n",
       "      <td>2.0</td>\n",
       "      <td>4.50</td>\n",
       "      <td>{'neg': 0.061, 'neu': 0.772, 'pos': 0.167, 'co...</td>\n",
       "    </tr>\n",
       "    <tr>\n",
       "      <th>3</th>\n",
       "      <td>--164t1nclzzmca7eDiJMw</td>\n",
       "      <td>fvuwn2Aa3SNGeCTlC3O8Ew</td>\n",
       "      <td>nHnNraNUct25HJJTRAGYkA</td>\n",
       "      <td>1.0</td>\n",
       "      <td>2</td>\n",
       "      <td>2</td>\n",
       "      <td>2</td>\n",
       "      <td>Me So Hungry earns 1 star because the owner's ...</td>\n",
       "      <td>2009-03-24</td>\n",
       "      <td>6</td>\n",
       "      <td>3.666667</td>\n",
       "      <td>3.0</td>\n",
       "      <td>4.55</td>\n",
       "      <td>{'neg': 0.043, 'neu': 0.786, 'pos': 0.171, 'co...</td>\n",
       "    </tr>\n",
       "    <tr>\n",
       "      <th>4</th>\n",
       "      <td>--164t1nclzzmca7eDiJMw</td>\n",
       "      <td>qUCBZ2I5Cuf3J4Yzn5k21g</td>\n",
       "      <td>18_WSz4VPqieDzBsSvCMmA</td>\n",
       "      <td>5.0</td>\n",
       "      <td>1</td>\n",
       "      <td>0</td>\n",
       "      <td>0</td>\n",
       "      <td>I work across the street from Me So Hungry and...</td>\n",
       "      <td>2009-05-15</td>\n",
       "      <td>1</td>\n",
       "      <td>3.000000</td>\n",
       "      <td>4.0</td>\n",
       "      <td>4.75</td>\n",
       "      <td>{'neg': 0.0, 'neu': 0.776, 'pos': 0.224, 'comp...</td>\n",
       "    </tr>\n",
       "  </tbody>\n",
       "</table>\n",
       "</div>"
      ],
      "text/plain": [
       "              business_id               review_id                 user_id  \\\n",
       "0  --164t1nclzzmca7eDiJMw  HcZ2W-oRHgnP6Zs0xYfoUw  InDrrRvQ9f732YGPX4Ixmg   \n",
       "1  --164t1nclzzmca7eDiJMw  6kurfVrLY9LuZnH-5GGCgQ  iktHs9VX9xK4dJW9szxRBA   \n",
       "2  --164t1nclzzmca7eDiJMw  eKTlMEpr163ZegnJmHYrqA  InDrrRvQ9f732YGPX4Ixmg   \n",
       "3  --164t1nclzzmca7eDiJMw  fvuwn2Aa3SNGeCTlC3O8Ew  nHnNraNUct25HJJTRAGYkA   \n",
       "4  --164t1nclzzmca7eDiJMw  qUCBZ2I5Cuf3J4Yzn5k21g  18_WSz4VPqieDzBsSvCMmA   \n",
       "\n",
       "   stars  useful  funny  cool  \\\n",
       "0    4.0       9     11    10   \n",
       "1    4.0       1      0     1   \n",
       "2    3.0       5      5     4   \n",
       "3    1.0       2      2     2   \n",
       "4    5.0       1      0     0   \n",
       "\n",
       "                                                text        date  total_votes  \\\n",
       "0  I don't want to give away too much since it wa...  2009-03-17           30   \n",
       "1  Yum, yum. Good food, big portions and nice pri...  2009-03-24            2   \n",
       "2  Well, after one day at the South Congress loca...  2009-03-24           14   \n",
       "3  Me So Hungry earns 1 star because the owner's ...  2009-03-24            6   \n",
       "4  I work across the street from Me So Hungry and...  2009-05-15            1   \n",
       "\n",
       "   prev6M_rating  prev6M_count  projected6M_rating  \\\n",
       "0       4.025010           0.0                4.40   \n",
       "1       4.000000           1.0                4.45   \n",
       "2       4.000000           2.0                4.50   \n",
       "3       3.666667           3.0                4.55   \n",
       "4       3.000000           4.0                4.75   \n",
       "\n",
       "                                      polarity_score  \n",
       "0  {'neg': 0.048, 'neu': 0.856, 'pos': 0.096, 'co...  \n",
       "1  {'neg': 0.0, 'neu': 0.588, 'pos': 0.412, 'comp...  \n",
       "2  {'neg': 0.061, 'neu': 0.772, 'pos': 0.167, 'co...  \n",
       "3  {'neg': 0.043, 'neu': 0.786, 'pos': 0.171, 'co...  \n",
       "4  {'neg': 0.0, 'neu': 0.776, 'pos': 0.224, 'comp...  "
      ]
     },
     "execution_count": 3,
     "metadata": {},
     "output_type": "execute_result"
    }
   ],
   "source": [
    "reviews_df.head()"
   ]
  },
  {
   "cell_type": "code",
   "execution_count": 4,
   "id": "03256bdb-e8de-41bb-aed4-9d92d17f9e68",
   "metadata": {},
   "outputs": [],
   "source": [
    "reviews_df['compound'] = reviews_df[['polarity_score']].applymap(lambda x: x['compound'], na_action='ignore')\n",
    "reviews_df['neg'] = reviews_df[['polarity_score']].applymap(lambda x: x['neg'], na_action='ignore')\n",
    "reviews_df['neu'] = reviews_df[['polarity_score']].applymap(lambda x: x['neu'], na_action='ignore')\n",
    "reviews_df['pos'] = reviews_df[['polarity_score']].applymap(lambda x: x['pos'], na_action='ignore')"
   ]
  },
  {
   "cell_type": "code",
   "execution_count": 5,
   "id": "83ba7d14-912d-473b-b8a9-4b66e304c8d8",
   "metadata": {},
   "outputs": [],
   "source": [
    "from sklearn.ensemble import GradientBoostingRegressor\n",
    "from sklearn.model_selection import train_test_split"
   ]
  },
  {
   "cell_type": "code",
   "execution_count": 73,
   "id": "b2670557-3fc9-4f9c-a287-e9dde583111e",
   "metadata": {},
   "outputs": [],
   "source": [
    "# need to label businesses\n",
    "from sklearn import preprocessing"
   ]
  },
  {
   "cell_type": "code",
   "execution_count": 74,
   "id": "647225e0-cfb9-46a6-b667-79fc6853d843",
   "metadata": {},
   "outputs": [],
   "source": [
    "le = preprocessing.LabelEncoder()\n",
    "le.fit(reviews_df['business_id'])\n",
    "reviews_df['business_encoded'] = le.transform(reviews_df['business_id'])"
   ]
  },
  {
   "cell_type": "code",
   "execution_count": 7,
   "id": "192aa0b0-640b-41db-8986-120f35991935",
   "metadata": {},
   "outputs": [],
   "source": [
    "training_data = reviews_df[['stars', 'total_votes', 'compound','prev6M_rating', 'prev6M_count',\n",
    "                           'neg', 'neu', 'pos']]\n",
    "\n",
    "testing_data = reviews_df['projected6M_rating'].values"
   ]
  },
  {
   "cell_type": "code",
   "execution_count": 8,
   "id": "1ac5a721-7cfd-4902-bdf3-ddcd974cf388",
   "metadata": {},
   "outputs": [],
   "source": [
    "# implement k fold cross_val yourself\n",
    "score_list = []\n",
    "feature_importances = []\n",
    "\n",
    "for i in range(5):\n",
    "    X_train, X_test, y_train, y_test = train_test_split(training_data, testing_data)\n",
    "    reg = GradientBoostingRegressor()\n",
    "    reg.fit(X_train, y_train)\n",
    "    curr_score = reg.score(X_test, y_test)\n",
    "    score_list.append(curr_score)\n",
    "    feature_importances.append(reg.feature_importances_)\n"
   ]
  },
  {
   "cell_type": "code",
   "execution_count": 13,
   "id": "1c817d8a-1c77-4bb7-a109-24e437541576",
   "metadata": {},
   "outputs": [
    {
     "data": {
      "text/plain": [
       "[0.6183698673649892,\n",
       " 0.6193854812198178,\n",
       " 0.6188080672891775,\n",
       " 0.6186855584085211,\n",
       " 0.6195803709158352]"
      ]
     },
     "execution_count": 13,
     "metadata": {},
     "output_type": "execute_result"
    }
   ],
   "source": [
    "score_list"
   ]
  },
  {
   "cell_type": "code",
   "execution_count": 15,
   "id": "c57290dd-3d25-4c69-9bf2-fc206593e5d6",
   "metadata": {},
   "outputs": [],
   "source": [
    "fi = feature_importances[4]"
   ]
  },
  {
   "cell_type": "code",
   "execution_count": 29,
   "id": "3511d92d-159e-4011-be7f-25841aa21b8f",
   "metadata": {},
   "outputs": [
    {
     "data": {
      "text/plain": [
       "<BarContainer object of 8 artists>"
      ]
     },
     "execution_count": 29,
     "metadata": {},
     "output_type": "execute_result"
    },
    {
     "data": {
      "image/png": "[encoded data removed]",
      "text/plain": [
       "<Figure size 1152x648 with 1 Axes>"
      ]
     },
     "metadata": {
      "needs_background": "light"
     },
     "output_type": "display_data"
    }
   ],
   "source": [
    "plt.bar(x =np.arange(0, 8) ,height =feature_importances[4], tick_label=['review star', 'votes received', 'compound sentiment', 'prev6M rating', 'prev6M count',\n",
    "                           'negative sentiment', 'neutral sentiment', 'positive sentiment'])\n",
    "#plt.ylabel('Feature importance')\n",
    "#plt.xlabel('Features')"
   ]
  },
  {
   "cell_type": "code",
   "execution_count": 28,
   "id": "2a48db15-55e8-4c22-afb7-e1b0aef72a1d",
   "metadata": {},
   "outputs": [],
   "source": [
    "plt.rcParams['figure.figsize'] = [16, 9]"
   ]
  },
  {
   "cell_type": "code",
   "execution_count": 99,
   "id": "8a2de03a-ff83-4916-b877-200f4e21c9e2",
   "metadata": {},
   "outputs": [],
   "source": []
  },
  {
   "cell_type": "code",
   "execution_count": 102,
   "id": "e851efd0-2711-478e-baf2-70474289346f",
   "metadata": {},
   "outputs": [],
   "source": []
  },
  {
   "cell_type": "code",
   "execution_count": null,
   "id": "e5ebdfbd-d647-48b7-a325-1153d6b866ab",
   "metadata": {},
   "outputs": [],
   "source": []
  }
 ],
 "metadata": {
  "kernelspec": {
   "display_name": "Python 3",
   "language": "python",
   "name": "python3"
  },
  "language_info": {
   "codemirror_mode": {
    "name": "ipython",
    "version": 3
   },
   "file_extension": ".py",
   "mimetype": "text/x-python",
   "name": "python",
   "nbconvert_exporter": "python",
   "pygments_lexer": "ipython3",
   "version": "3.9.0"
  }
 },
 "nbformat": 4,
 "nbformat_minor": 5
}
