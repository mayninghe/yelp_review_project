{
 "cells": [
  {
   "cell_type": "code",
   "execution_count": 37,
   "id": "4081a839",
   "metadata": {},
   "outputs": [],
   "source": [
    "import os\n",
    "import json\n",
    "import numpy as np\n",
    "import datetime\n",
    "import pandas as pd"
   ]
  },
  {
   "cell_type": "code",
   "execution_count": 3,
   "id": "4c375264",
   "metadata": {},
   "outputs": [],
   "source": [
    "path = '/Users/ncr5341/Documents/Coursework/DataPipeline/yelp_dataset/'"
   ]
  },
  {
   "cell_type": "code",
   "execution_count": 4,
   "id": "57fc1dec",
   "metadata": {},
   "outputs": [],
   "source": [
    "business_df = pd.read_json(path+'yelp_academic_dataset_business.json', lines=True)"
   ]
  },
  {
   "cell_type": "code",
   "execution_count": 5,
   "id": "c94d15a1",
   "metadata": {},
   "outputs": [],
   "source": [
    "review = open(path + 'yelp_academic_dataset_review.json').readlines()"
   ]
  },
  {
   "cell_type": "code",
   "execution_count": 6,
   "id": "4d432123",
   "metadata": {},
   "outputs": [],
   "source": [
    "reviews = []\n",
    "for i in review:\n",
    "    reviews.append(json.loads(i))\n",
    "review_df = pd.DataFrame.from_records(reviews)"
   ]
  },
  {
   "cell_type": "code",
   "execution_count": 12,
   "id": "ed283171",
   "metadata": {},
   "outputs": [],
   "source": [
    "review_df['new_date'] = pd.to_datetime(review_df.date, errors='coerce')"
   ]
  },
  {
   "cell_type": "code",
   "execution_count": 24,
   "id": "6e453344",
   "metadata": {},
   "outputs": [],
   "source": [
    "review_newest = review_df[['business_id', 'new_date']].groupby(['business_id']).max()"
   ]
  },
  {
   "cell_type": "code",
   "execution_count": 25,
   "id": "4710ddc5",
   "metadata": {},
   "outputs": [],
   "source": [
    "review_oldest = review_df[['business_id', 'new_date']].groupby(['business_id']).min()"
   ]
  },
  {
   "cell_type": "code",
   "execution_count": 79,
   "id": "a8e09e30",
   "metadata": {},
   "outputs": [],
   "source": [
    "review_duration = review_oldest.join(review_newest, on='business_id', lsuffix='_old', rsuffix='_new')"
   ]
  },
  {
   "cell_type": "code",
   "execution_count": 80,
   "id": "1b39ad5e",
   "metadata": {},
   "outputs": [],
   "source": [
    "review_duration['duration'] = review_duration.new_date_new - review_duration.new_date_old"
   ]
  },
  {
   "cell_type": "code",
   "execution_count": 81,
   "id": "787af6ad",
   "metadata": {},
   "outputs": [],
   "source": [
    "business_tokeep = review_duration[review_duration['duration']>datetime.timedelta(days=365*2)]"
   ]
  },
  {
   "cell_type": "code",
   "execution_count": 83,
   "id": "c69ba1b5",
   "metadata": {
    "scrolled": true
   },
   "outputs": [
    {
     "data": {
      "text/plain": [
       "141613"
      ]
     },
     "execution_count": 83,
     "metadata": {},
     "output_type": "execute_result"
    }
   ],
   "source": [
    "len(business_tokeep)"
   ]
  },
  {
   "cell_type": "code",
   "execution_count": 85,
   "id": "299ac4ff",
   "metadata": {},
   "outputs": [],
   "source": [
    "pan_start = datetime.datetime.fromisoformat('2020-03-01')\n",
    "business_prePandemic = business_tokeep[business_tokeep[\"new_date_new\"] < pan_start]"
   ]
  },
  {
   "cell_type": "code",
   "execution_count": 86,
   "id": "3c0995d2",
   "metadata": {},
   "outputs": [
    {
     "data": {
      "text/plain": [
       "65875"
      ]
     },
     "execution_count": 86,
     "metadata": {},
     "output_type": "execute_result"
    }
   ],
   "source": [
    "len(business_prePandemic)"
   ]
  },
  {
   "cell_type": "code",
   "execution_count": 91,
   "id": "de72b239",
   "metadata": {},
   "outputs": [
    {
     "ename": "KeyboardInterrupt",
     "evalue": "",
     "output_type": "error",
     "traceback": [
      "\u001b[0;31m---------------------------------------------------------------------------\u001b[0m",
      "\u001b[0;31mKeyboardInterrupt\u001b[0m                         Traceback (most recent call last)",
      "\u001b[0;32m<ipython-input-91-f96445a9493a>\u001b[0m in \u001b[0;36m<module>\u001b[0;34m\u001b[0m\n\u001b[0;32m----> 1\u001b[0;31m \u001b[0mbusiness_set\u001b[0m \u001b[0;34m=\u001b[0m \u001b[0mbusiness_tokeep\u001b[0m\u001b[0;34m.\u001b[0m\u001b[0mwhere\u001b[0m\u001b[0;34m(\u001b[0m\u001b[0mbusiness_tokeep\u001b[0m\u001b[0;34m[\u001b[0m\u001b[0;34m'new_date_new'\u001b[0m\u001b[0;34m]\u001b[0m \u001b[0;34m>\u001b[0m \u001b[0mpan_start\u001b[0m\u001b[0;34m,\u001b[0m \u001b[0mpan_start\u001b[0m\u001b[0;34m)\u001b[0m\u001b[0;34m\u001b[0m\u001b[0;34m\u001b[0m\u001b[0m\n\u001b[0m",
      "\u001b[0;32m~/Library/Python/3.9/lib/python/site-packages/pandas/core/generic.py\u001b[0m in \u001b[0;36mwhere\u001b[0;34m(self, cond, other, inplace, axis, level, errors, try_cast)\u001b[0m\n\u001b[1;32m   9284\u001b[0m         \"\"\"\n\u001b[1;32m   9285\u001b[0m         \u001b[0mother\u001b[0m \u001b[0;34m=\u001b[0m \u001b[0mcom\u001b[0m\u001b[0;34m.\u001b[0m\u001b[0mapply_if_callable\u001b[0m\u001b[0;34m(\u001b[0m\u001b[0mother\u001b[0m\u001b[0;34m,\u001b[0m \u001b[0mself\u001b[0m\u001b[0;34m)\u001b[0m\u001b[0;34m\u001b[0m\u001b[0;34m\u001b[0m\u001b[0m\n\u001b[0;32m-> 9286\u001b[0;31m         return self._where(\n\u001b[0m\u001b[1;32m   9287\u001b[0m             \u001b[0mcond\u001b[0m\u001b[0;34m,\u001b[0m \u001b[0mother\u001b[0m\u001b[0;34m,\u001b[0m \u001b[0minplace\u001b[0m\u001b[0;34m,\u001b[0m \u001b[0maxis\u001b[0m\u001b[0;34m,\u001b[0m \u001b[0mlevel\u001b[0m\u001b[0;34m,\u001b[0m \u001b[0merrors\u001b[0m\u001b[0;34m=\u001b[0m\u001b[0merrors\u001b[0m\u001b[0;34m,\u001b[0m \u001b[0mtry_cast\u001b[0m\u001b[0;34m=\u001b[0m\u001b[0mtry_cast\u001b[0m\u001b[0;34m\u001b[0m\u001b[0;34m\u001b[0m\u001b[0m\n\u001b[1;32m   9288\u001b[0m         )\n",
      "\u001b[0;32m~/Library/Python/3.9/lib/python/site-packages/pandas/core/generic.py\u001b[0m in \u001b[0;36m_where\u001b[0;34m(self, cond, other, inplace, axis, level, errors, try_cast)\u001b[0m\n\u001b[1;32m   9134\u001b[0m \u001b[0;34m\u001b[0m\u001b[0m\n\u001b[1;32m   9135\u001b[0m         \u001b[0;32melse\u001b[0m\u001b[0;34m:\u001b[0m\u001b[0;34m\u001b[0m\u001b[0;34m\u001b[0m\u001b[0m\n\u001b[0;32m-> 9136\u001b[0;31m             new_data = self._mgr.where(\n\u001b[0m\u001b[1;32m   9137\u001b[0m                 \u001b[0mother\u001b[0m\u001b[0;34m=\u001b[0m\u001b[0mother\u001b[0m\u001b[0;34m,\u001b[0m\u001b[0;34m\u001b[0m\u001b[0;34m\u001b[0m\u001b[0m\n\u001b[1;32m   9138\u001b[0m                 \u001b[0mcond\u001b[0m\u001b[0;34m=\u001b[0m\u001b[0mcond\u001b[0m\u001b[0;34m,\u001b[0m\u001b[0;34m\u001b[0m\u001b[0;34m\u001b[0m\u001b[0m\n",
      "\u001b[0;32m~/Library/Python/3.9/lib/python/site-packages/pandas/core/internals/managers.py\u001b[0m in \u001b[0;36mwhere\u001b[0;34m(self, other, cond, align, errors, try_cast, axis)\u001b[0m\n\u001b[1;32m    555\u001b[0m             \u001b[0mother\u001b[0m \u001b[0;34m=\u001b[0m \u001b[0mextract_array\u001b[0m\u001b[0;34m(\u001b[0m\u001b[0mother\u001b[0m\u001b[0;34m,\u001b[0m \u001b[0mextract_numpy\u001b[0m\u001b[0;34m=\u001b[0m\u001b[0;32mTrue\u001b[0m\u001b[0;34m)\u001b[0m\u001b[0;34m\u001b[0m\u001b[0;34m\u001b[0m\u001b[0m\n\u001b[1;32m    556\u001b[0m \u001b[0;34m\u001b[0m\u001b[0m\n\u001b[0;32m--> 557\u001b[0;31m         return self.apply(\n\u001b[0m\u001b[1;32m    558\u001b[0m             \u001b[0;34m\"where\"\u001b[0m\u001b[0;34m,\u001b[0m\u001b[0;34m\u001b[0m\u001b[0;34m\u001b[0m\u001b[0m\n\u001b[1;32m    559\u001b[0m             \u001b[0malign_keys\u001b[0m\u001b[0;34m=\u001b[0m\u001b[0malign_keys\u001b[0m\u001b[0;34m,\u001b[0m\u001b[0;34m\u001b[0m\u001b[0;34m\u001b[0m\u001b[0m\n",
      "\u001b[0;32m~/Library/Python/3.9/lib/python/site-packages/pandas/core/internals/managers.py\u001b[0m in \u001b[0;36mapply\u001b[0;34m(self, f, align_keys, ignore_failures, **kwargs)\u001b[0m\n\u001b[1;32m    425\u001b[0m                     \u001b[0mapplied\u001b[0m \u001b[0;34m=\u001b[0m \u001b[0mb\u001b[0m\u001b[0;34m.\u001b[0m\u001b[0mapply\u001b[0m\u001b[0;34m(\u001b[0m\u001b[0mf\u001b[0m\u001b[0;34m,\u001b[0m \u001b[0;34m**\u001b[0m\u001b[0mkwargs\u001b[0m\u001b[0;34m)\u001b[0m\u001b[0;34m\u001b[0m\u001b[0;34m\u001b[0m\u001b[0m\n\u001b[1;32m    426\u001b[0m                 \u001b[0;32melse\u001b[0m\u001b[0;34m:\u001b[0m\u001b[0;34m\u001b[0m\u001b[0;34m\u001b[0m\u001b[0m\n\u001b[0;32m--> 427\u001b[0;31m                     \u001b[0mapplied\u001b[0m \u001b[0;34m=\u001b[0m \u001b[0mgetattr\u001b[0m\u001b[0;34m(\u001b[0m\u001b[0mb\u001b[0m\u001b[0;34m,\u001b[0m \u001b[0mf\u001b[0m\u001b[0;34m)\u001b[0m\u001b[0;34m(\u001b[0m\u001b[0;34m**\u001b[0m\u001b[0mkwargs\u001b[0m\u001b[0;34m)\u001b[0m\u001b[0;34m\u001b[0m\u001b[0;34m\u001b[0m\u001b[0m\n\u001b[0m\u001b[1;32m    428\u001b[0m             \u001b[0;32mexcept\u001b[0m \u001b[0;34m(\u001b[0m\u001b[0mTypeError\u001b[0m\u001b[0;34m,\u001b[0m \u001b[0mNotImplementedError\u001b[0m\u001b[0;34m)\u001b[0m\u001b[0;34m:\u001b[0m\u001b[0;34m\u001b[0m\u001b[0;34m\u001b[0m\u001b[0m\n\u001b[1;32m    429\u001b[0m                 \u001b[0;32mif\u001b[0m \u001b[0;32mnot\u001b[0m \u001b[0mignore_failures\u001b[0m\u001b[0;34m:\u001b[0m\u001b[0;34m\u001b[0m\u001b[0;34m\u001b[0m\u001b[0m\n",
      "\u001b[0;32m~/Library/Python/3.9/lib/python/site-packages/pandas/core/internals/blocks.py\u001b[0m in \u001b[0;36mwhere\u001b[0;34m(self, other, cond, errors, try_cast, axis)\u001b[0m\n\u001b[1;32m   1494\u001b[0m                 \u001b[0;31m# we cannot coerce, return a compat dtype\u001b[0m\u001b[0;34m\u001b[0m\u001b[0;34m\u001b[0m\u001b[0;34m\u001b[0m\u001b[0m\n\u001b[1;32m   1495\u001b[0m                 \u001b[0;31m# we are explicitly ignoring errors\u001b[0m\u001b[0;34m\u001b[0m\u001b[0;34m\u001b[0m\u001b[0;34m\u001b[0m\u001b[0m\n\u001b[0;32m-> 1496\u001b[0;31m                 \u001b[0mblock\u001b[0m \u001b[0;34m=\u001b[0m \u001b[0mself\u001b[0m\u001b[0;34m.\u001b[0m\u001b[0mcoerce_to_target_dtype\u001b[0m\u001b[0;34m(\u001b[0m\u001b[0mother\u001b[0m\u001b[0;34m)\u001b[0m\u001b[0;34m\u001b[0m\u001b[0;34m\u001b[0m\u001b[0m\n\u001b[0m\u001b[1;32m   1497\u001b[0m                 blocks = block.where(\n\u001b[1;32m   1498\u001b[0m                     \u001b[0morig_other\u001b[0m\u001b[0;34m,\u001b[0m \u001b[0mcond\u001b[0m\u001b[0;34m,\u001b[0m \u001b[0merrors\u001b[0m\u001b[0;34m=\u001b[0m\u001b[0merrors\u001b[0m\u001b[0;34m,\u001b[0m \u001b[0mtry_cast\u001b[0m\u001b[0;34m=\u001b[0m\u001b[0mtry_cast\u001b[0m\u001b[0;34m,\u001b[0m \u001b[0maxis\u001b[0m\u001b[0;34m=\u001b[0m\u001b[0maxis\u001b[0m\u001b[0;34m\u001b[0m\u001b[0;34m\u001b[0m\u001b[0m\n",
      "\u001b[0;32m~/Library/Python/3.9/lib/python/site-packages/pandas/core/internals/blocks.py\u001b[0m in \u001b[0;36mcoerce_to_target_dtype\u001b[0;34m(self, other)\u001b[0m\n\u001b[1;32m   1232\u001b[0m             \u001b[0;31m# The is_dtype_equal check above ensures that at most one of\u001b[0m\u001b[0;34m\u001b[0m\u001b[0;34m\u001b[0m\u001b[0;34m\u001b[0m\u001b[0m\n\u001b[1;32m   1233\u001b[0m             \u001b[0;31m#  these two conditions hold, so we must cast to object.\u001b[0m\u001b[0;34m\u001b[0m\u001b[0;34m\u001b[0m\u001b[0;34m\u001b[0m\u001b[0m\n\u001b[0;32m-> 1234\u001b[0;31m             \u001b[0;32mreturn\u001b[0m \u001b[0mself\u001b[0m\u001b[0;34m.\u001b[0m\u001b[0mastype\u001b[0m\u001b[0;34m(\u001b[0m\u001b[0mobject\u001b[0m\u001b[0;34m)\u001b[0m\u001b[0;34m\u001b[0m\u001b[0;34m\u001b[0m\u001b[0m\n\u001b[0m\u001b[1;32m   1235\u001b[0m \u001b[0;34m\u001b[0m\u001b[0m\n\u001b[1;32m   1236\u001b[0m         \u001b[0;32melif\u001b[0m \u001b[0mself\u001b[0m\u001b[0;34m.\u001b[0m\u001b[0mis_timedelta\u001b[0m \u001b[0;32mor\u001b[0m \u001b[0mis_timedelta64_dtype\u001b[0m\u001b[0;34m(\u001b[0m\u001b[0mdtype\u001b[0m\u001b[0;34m)\u001b[0m\u001b[0;34m:\u001b[0m\u001b[0;34m\u001b[0m\u001b[0;34m\u001b[0m\u001b[0m\n",
      "\u001b[0;32m~/Library/Python/3.9/lib/python/site-packages/pandas/core/internals/blocks.py\u001b[0m in \u001b[0;36mastype\u001b[0;34m(self, dtype, copy, errors)\u001b[0m\n\u001b[1;32m    666\u001b[0m \u001b[0;34m\u001b[0m\u001b[0m\n\u001b[1;32m    667\u001b[0m             \u001b[0;32melse\u001b[0m\u001b[0;34m:\u001b[0m\u001b[0;34m\u001b[0m\u001b[0;34m\u001b[0m\u001b[0m\n\u001b[0;32m--> 668\u001b[0;31m                 \u001b[0mvalues\u001b[0m \u001b[0;34m=\u001b[0m \u001b[0mself\u001b[0m\u001b[0;34m.\u001b[0m\u001b[0mget_values\u001b[0m\u001b[0;34m(\u001b[0m\u001b[0mdtype\u001b[0m\u001b[0;34m=\u001b[0m\u001b[0mdtype\u001b[0m\u001b[0;34m)\u001b[0m\u001b[0;34m\u001b[0m\u001b[0;34m\u001b[0m\u001b[0m\n\u001b[0m\u001b[1;32m    669\u001b[0m \u001b[0;34m\u001b[0m\u001b[0m\n\u001b[1;32m    670\u001b[0m             \u001b[0;31m# _astype_nansafe works fine with 1-d only\u001b[0m\u001b[0;34m\u001b[0m\u001b[0;34m\u001b[0m\u001b[0;34m\u001b[0m\u001b[0m\n",
      "\u001b[0;32m~/Library/Python/3.9/lib/python/site-packages/pandas/core/internals/blocks.py\u001b[0m in \u001b[0;36mget_values\u001b[0;34m(self, dtype)\u001b[0m\n\u001b[1;32m   2182\u001b[0m         \u001b[0;32mif\u001b[0m \u001b[0mis_object_dtype\u001b[0m\u001b[0;34m(\u001b[0m\u001b[0mdtype\u001b[0m\u001b[0;34m)\u001b[0m\u001b[0;34m:\u001b[0m\u001b[0;34m\u001b[0m\u001b[0;34m\u001b[0m\u001b[0m\n\u001b[1;32m   2183\u001b[0m             \u001b[0;31m# DTA/TDA constructor and astype can handle 2D\u001b[0m\u001b[0;34m\u001b[0m\u001b[0;34m\u001b[0m\u001b[0;34m\u001b[0m\u001b[0m\n\u001b[0;32m-> 2184\u001b[0;31m             \u001b[0;32mreturn\u001b[0m \u001b[0mself\u001b[0m\u001b[0;34m.\u001b[0m\u001b[0m_holder\u001b[0m\u001b[0;34m(\u001b[0m\u001b[0mself\u001b[0m\u001b[0;34m.\u001b[0m\u001b[0mvalues\u001b[0m\u001b[0;34m)\u001b[0m\u001b[0;34m.\u001b[0m\u001b[0mastype\u001b[0m\u001b[0;34m(\u001b[0m\u001b[0mobject\u001b[0m\u001b[0;34m)\u001b[0m\u001b[0;34m\u001b[0m\u001b[0;34m\u001b[0m\u001b[0m\n\u001b[0m\u001b[1;32m   2185\u001b[0m         \u001b[0;32mreturn\u001b[0m \u001b[0mself\u001b[0m\u001b[0;34m.\u001b[0m\u001b[0mvalues\u001b[0m\u001b[0;34m\u001b[0m\u001b[0;34m\u001b[0m\u001b[0m\n\u001b[1;32m   2186\u001b[0m \u001b[0;34m\u001b[0m\u001b[0m\n",
      "\u001b[0;32m~/Library/Python/3.9/lib/python/site-packages/pandas/core/arrays/timedeltas.py\u001b[0m in \u001b[0;36mastype\u001b[0;34m(self, dtype, copy)\u001b[0m\n\u001b[1;32m    341\u001b[0m                 \u001b[0;32mreturn\u001b[0m \u001b[0mself\u001b[0m\u001b[0;34m.\u001b[0m\u001b[0mcopy\u001b[0m\u001b[0;34m(\u001b[0m\u001b[0;34m)\u001b[0m\u001b[0;34m\u001b[0m\u001b[0;34m\u001b[0m\u001b[0m\n\u001b[1;32m    342\u001b[0m             \u001b[0;32mreturn\u001b[0m \u001b[0mself\u001b[0m\u001b[0;34m\u001b[0m\u001b[0;34m\u001b[0m\u001b[0m\n\u001b[0;32m--> 343\u001b[0;31m         \u001b[0;32mreturn\u001b[0m \u001b[0mdtl\u001b[0m\u001b[0;34m.\u001b[0m\u001b[0mDatetimeLikeArrayMixin\u001b[0m\u001b[0;34m.\u001b[0m\u001b[0mastype\u001b[0m\u001b[0;34m(\u001b[0m\u001b[0mself\u001b[0m\u001b[0;34m,\u001b[0m \u001b[0mdtype\u001b[0m\u001b[0;34m,\u001b[0m \u001b[0mcopy\u001b[0m\u001b[0;34m=\u001b[0m\u001b[0mcopy\u001b[0m\u001b[0;34m)\u001b[0m\u001b[0;34m\u001b[0m\u001b[0;34m\u001b[0m\u001b[0m\n\u001b[0m\u001b[1;32m    344\u001b[0m \u001b[0;34m\u001b[0m\u001b[0m\n\u001b[1;32m    345\u001b[0m     \u001b[0;32mdef\u001b[0m \u001b[0m__iter__\u001b[0m\u001b[0;34m(\u001b[0m\u001b[0mself\u001b[0m\u001b[0;34m)\u001b[0m\u001b[0;34m:\u001b[0m\u001b[0;34m\u001b[0m\u001b[0;34m\u001b[0m\u001b[0m\n",
      "\u001b[0;32m~/Library/Python/3.9/lib/python/site-packages/pandas/core/arrays/datetimelike.py\u001b[0m in \u001b[0;36mastype\u001b[0;34m(self, dtype, copy)\u001b[0m\n\u001b[1;32m    343\u001b[0m \u001b[0;34m\u001b[0m\u001b[0m\n\u001b[1;32m    344\u001b[0m         \u001b[0;32mif\u001b[0m \u001b[0mis_object_dtype\u001b[0m\u001b[0;34m(\u001b[0m\u001b[0mdtype\u001b[0m\u001b[0;34m)\u001b[0m\u001b[0;34m:\u001b[0m\u001b[0;34m\u001b[0m\u001b[0;34m\u001b[0m\u001b[0m\n\u001b[0;32m--> 345\u001b[0;31m             \u001b[0;32mreturn\u001b[0m \u001b[0mself\u001b[0m\u001b[0;34m.\u001b[0m\u001b[0m_box_values\u001b[0m\u001b[0;34m(\u001b[0m\u001b[0mself\u001b[0m\u001b[0;34m.\u001b[0m\u001b[0masi8\u001b[0m\u001b[0;34m.\u001b[0m\u001b[0mravel\u001b[0m\u001b[0;34m(\u001b[0m\u001b[0;34m)\u001b[0m\u001b[0;34m)\u001b[0m\u001b[0;34m.\u001b[0m\u001b[0mreshape\u001b[0m\u001b[0;34m(\u001b[0m\u001b[0mself\u001b[0m\u001b[0;34m.\u001b[0m\u001b[0mshape\u001b[0m\u001b[0;34m)\u001b[0m\u001b[0;34m\u001b[0m\u001b[0;34m\u001b[0m\u001b[0m\n\u001b[0m\u001b[1;32m    346\u001b[0m         \u001b[0;32melif\u001b[0m \u001b[0mis_string_dtype\u001b[0m\u001b[0;34m(\u001b[0m\u001b[0mdtype\u001b[0m\u001b[0;34m)\u001b[0m \u001b[0;32mand\u001b[0m \u001b[0;32mnot\u001b[0m \u001b[0mis_categorical_dtype\u001b[0m\u001b[0;34m(\u001b[0m\u001b[0mdtype\u001b[0m\u001b[0;34m)\u001b[0m\u001b[0;34m:\u001b[0m\u001b[0;34m\u001b[0m\u001b[0;34m\u001b[0m\u001b[0m\n\u001b[1;32m    347\u001b[0m             \u001b[0;32mif\u001b[0m \u001b[0mis_extension_array_dtype\u001b[0m\u001b[0;34m(\u001b[0m\u001b[0mdtype\u001b[0m\u001b[0;34m)\u001b[0m\u001b[0;34m:\u001b[0m\u001b[0;34m\u001b[0m\u001b[0;34m\u001b[0m\u001b[0m\n",
      "\u001b[0;32m~/Library/Python/3.9/lib/python/site-packages/pandas/core/arrays/datetimelike.py\u001b[0m in \u001b[0;36m_box_values\u001b[0;34m(self, values)\u001b[0m\n\u001b[1;32m    225\u001b[0m         \u001b[0mapply\u001b[0m \u001b[0mbox\u001b[0m \u001b[0mfunc\u001b[0m \u001b[0mto\u001b[0m \u001b[0mpassed\u001b[0m \u001b[0mvalues\u001b[0m\u001b[0;34m\u001b[0m\u001b[0;34m\u001b[0m\u001b[0m\n\u001b[1;32m    226\u001b[0m         \"\"\"\n\u001b[0;32m--> 227\u001b[0;31m         \u001b[0;32mreturn\u001b[0m \u001b[0mlib\u001b[0m\u001b[0;34m.\u001b[0m\u001b[0mmap_infer\u001b[0m\u001b[0;34m(\u001b[0m\u001b[0mvalues\u001b[0m\u001b[0;34m,\u001b[0m \u001b[0mself\u001b[0m\u001b[0;34m.\u001b[0m\u001b[0m_box_func\u001b[0m\u001b[0;34m)\u001b[0m\u001b[0;34m\u001b[0m\u001b[0;34m\u001b[0m\u001b[0m\n\u001b[0m\u001b[1;32m    228\u001b[0m \u001b[0;34m\u001b[0m\u001b[0m\n\u001b[1;32m    229\u001b[0m     \u001b[0;32mdef\u001b[0m \u001b[0m__iter__\u001b[0m\u001b[0;34m(\u001b[0m\u001b[0mself\u001b[0m\u001b[0;34m)\u001b[0m\u001b[0;34m:\u001b[0m\u001b[0;34m\u001b[0m\u001b[0;34m\u001b[0m\u001b[0m\n",
      "\u001b[0;32mpandas/_libs/lib.pyx\u001b[0m in \u001b[0;36mpandas._libs.lib.map_infer\u001b[0;34m()\u001b[0m\n",
      "\u001b[0;32m~/Library/Python/3.9/lib/python/site-packages/pandas/core/arrays/timedeltas.py\u001b[0m in \u001b[0;36m_box_func\u001b[0;34m(self, x)\u001b[0m\n\u001b[1;32m    126\u001b[0m \u001b[0;34m\u001b[0m\u001b[0m\n\u001b[1;32m    127\u001b[0m     \u001b[0;32mdef\u001b[0m \u001b[0m_box_func\u001b[0m\u001b[0;34m(\u001b[0m\u001b[0mself\u001b[0m\u001b[0;34m,\u001b[0m \u001b[0mx\u001b[0m\u001b[0;34m)\u001b[0m \u001b[0;34m->\u001b[0m \u001b[0mUnion\u001b[0m\u001b[0;34m[\u001b[0m\u001b[0mTimedelta\u001b[0m\u001b[0;34m,\u001b[0m \u001b[0mNaTType\u001b[0m\u001b[0;34m]\u001b[0m\u001b[0;34m:\u001b[0m\u001b[0;34m\u001b[0m\u001b[0;34m\u001b[0m\u001b[0m\n\u001b[0;32m--> 128\u001b[0;31m         \u001b[0;32mreturn\u001b[0m \u001b[0mTimedelta\u001b[0m\u001b[0;34m(\u001b[0m\u001b[0mx\u001b[0m\u001b[0;34m,\u001b[0m \u001b[0munit\u001b[0m\u001b[0;34m=\u001b[0m\u001b[0;34m\"ns\"\u001b[0m\u001b[0;34m)\u001b[0m\u001b[0;34m\u001b[0m\u001b[0;34m\u001b[0m\u001b[0m\n\u001b[0m\u001b[1;32m    129\u001b[0m \u001b[0;34m\u001b[0m\u001b[0m\n\u001b[1;32m    130\u001b[0m     \u001b[0;34m@\u001b[0m\u001b[0mproperty\u001b[0m\u001b[0;34m\u001b[0m\u001b[0;34m\u001b[0m\u001b[0m\n",
      "\u001b[0;32mpandas/_libs/tslibs/timedeltas.pyx\u001b[0m in \u001b[0;36mpandas._libs.tslibs.timedeltas.Timedelta.__new__\u001b[0;34m()\u001b[0m\n",
      "\u001b[0;31mKeyboardInterrupt\u001b[0m: "
     ]
    }
   ],
   "source": [
    "#business_set = business_tokeep.where(business_tokeep['new_date_new'] > pan_start, pan_start)"
   ]
  },
  {
   "cell_type": "code",
   "execution_count": 88,
   "id": "386e8b7d",
   "metadata": {},
   "outputs": [],
   "source": [
    "business_tokeep.to_pickle('business_tokeep.pkl')\n",
    "business_prePandemic.to_pickle('business_prePandemic.pkl')"
   ]
  },
  {
   "cell_type": "code",
   "execution_count": 99,
   "id": "bf192dfd",
   "metadata": {},
   "outputs": [
    {
     "data": {
      "text/plain": [
       "business_id\n",
       "--0DF12EMHYI8XIgoFha6A   2020-12-21 16:40:17\n",
       "--0r8K_AQ4FZfLsX3ZYRDA   2020-04-15 13:33:08\n",
       "--164t1nclzzmca7eDiJMw   2020-03-01 00:00:00\n",
       "--2aF9NhXnNVpDV0KS3xBQ   2021-01-01 14:39:44\n",
       "--2mEJ63SC_8_08_jGgVIg   2020-08-22 05:04:13\n",
       "Name: new_date_new, dtype: datetime64[ns]"
      ]
     },
     "execution_count": 99,
     "metadata": {},
     "output_type": "execute_result"
    }
   ],
   "source": [
    "test['new_date_new'].where(test['new_date_new'] > pan_start, pan_start)"
   ]
  },
  {
   "cell_type": "code",
   "execution_count": 165,
   "id": "c46de3a7",
   "metadata": {},
   "outputs": [
    {
     "data": {
      "text/plain": [
       "141613"
      ]
     },
     "execution_count": 165,
     "metadata": {},
     "output_type": "execute_result"
    }
   ],
   "source": [
    "len(business_tokeep)"
   ]
  },
  {
   "cell_type": "code",
   "execution_count": 149,
   "id": "e261135b",
   "metadata": {},
   "outputs": [],
   "source": [
    "business_pan_eligible = business_tokeep.copy()"
   ]
  },
  {
   "cell_type": "code",
   "execution_count": 166,
   "id": "78219032",
   "metadata": {},
   "outputs": [],
   "source": [
    "business_pan_eligible = business_tokeep.assign(pan_duration = pan_start - business_tokeep['new_date_old'])\n",
    "business_pan_eligible = business_pan_eligible[business_pan_eligible['pan_duration'] > datetime.timedelta(days=365*2)]"
   ]
  },
  {
   "cell_type": "code",
   "execution_count": 167,
   "id": "8bfd635b",
   "metadata": {},
   "outputs": [],
   "source": [
    "business_pan_eligible = business_pan_eligible.assign(duration_toUse = business_pan_eligible[['pan_duration', 'duration']].min(axis=1))"
   ]
  },
  {
   "cell_type": "code",
   "execution_count": 169,
   "id": "9a625e39",
   "metadata": {},
   "outputs": [],
   "source": [
    "business_pan_eligible.to_pickle('business_pan_eligible.pkl')"
   ]
  },
  {
   "cell_type": "code",
   "execution_count": 168,
   "id": "cb35abbb",
   "metadata": {},
   "outputs": [
    {
     "data": {
      "text/plain": [
       "138023"
      ]
     },
     "execution_count": 168,
     "metadata": {},
     "output_type": "execute_result"
    }
   ],
   "source": [
    "len(business_pan_eligible)"
   ]
  },
  {
   "cell_type": "code",
   "execution_count": 170,
   "id": "06b5b9d5",
   "metadata": {},
   "outputs": [
    {
     "data": {
      "text/html": [
       "<div>\n",
       "<style scoped>\n",
       "    .dataframe tbody tr th:only-of-type {\n",
       "        vertical-align: middle;\n",
       "    }\n",
       "\n",
       "    .dataframe tbody tr th {\n",
       "        vertical-align: top;\n",
       "    }\n",
       "\n",
       "    .dataframe thead th {\n",
       "        text-align: right;\n",
       "    }\n",
       "</style>\n",
       "<table border=\"1\" class=\"dataframe\">\n",
       "  <thead>\n",
       "    <tr style=\"text-align: right;\">\n",
       "      <th></th>\n",
       "      <th>new_date_old</th>\n",
       "      <th>new_date_new</th>\n",
       "      <th>duration</th>\n",
       "      <th>pan_duration</th>\n",
       "      <th>duration_toUse</th>\n",
       "    </tr>\n",
       "    <tr>\n",
       "      <th>business_id</th>\n",
       "      <th></th>\n",
       "      <th></th>\n",
       "      <th></th>\n",
       "      <th></th>\n",
       "      <th></th>\n",
       "    </tr>\n",
       "  </thead>\n",
       "  <tbody>\n",
       "    <tr>\n",
       "      <th>--0DF12EMHYI8XIgoFha6A</th>\n",
       "      <td>2014-11-25 20:35:03</td>\n",
       "      <td>2020-12-21 16:40:17</td>\n",
       "      <td>2217 days 20:05:14</td>\n",
       "      <td>1922 days 03:24:57</td>\n",
       "      <td>1922 days 03:24:57</td>\n",
       "    </tr>\n",
       "    <tr>\n",
       "      <th>--0r8K_AQ4FZfLsX3ZYRDA</th>\n",
       "      <td>2017-09-03 17:15:48</td>\n",
       "      <td>2020-04-15 13:33:08</td>\n",
       "      <td>954 days 20:17:20</td>\n",
       "      <td>909 days 06:44:12</td>\n",
       "      <td>909 days 06:44:12</td>\n",
       "    </tr>\n",
       "    <tr>\n",
       "      <th>--164t1nclzzmca7eDiJMw</th>\n",
       "      <td>2009-03-17 01:53:31</td>\n",
       "      <td>2014-06-09 21:27:05</td>\n",
       "      <td>1910 days 19:33:34</td>\n",
       "      <td>4001 days 22:06:29</td>\n",
       "      <td>1910 days 19:33:34</td>\n",
       "    </tr>\n",
       "    <tr>\n",
       "      <th>--2aF9NhXnNVpDV0KS3xBQ</th>\n",
       "      <td>2008-08-08 17:13:26</td>\n",
       "      <td>2021-01-01 14:39:44</td>\n",
       "      <td>4528 days 21:26:18</td>\n",
       "      <td>4222 days 06:46:34</td>\n",
       "      <td>4222 days 06:46:34</td>\n",
       "    </tr>\n",
       "    <tr>\n",
       "      <th>--2mEJ63SC_8_08_jGgVIg</th>\n",
       "      <td>2015-09-25 00:41:57</td>\n",
       "      <td>2020-08-22 05:04:13</td>\n",
       "      <td>1793 days 04:22:16</td>\n",
       "      <td>1618 days 23:18:03</td>\n",
       "      <td>1618 days 23:18:03</td>\n",
       "    </tr>\n",
       "    <tr>\n",
       "      <th>...</th>\n",
       "      <td>...</td>\n",
       "      <td>...</td>\n",
       "      <td>...</td>\n",
       "      <td>...</td>\n",
       "      <td>...</td>\n",
       "    </tr>\n",
       "    <tr>\n",
       "      <th>zzngBb9MoGpkFe8tfowvvA</th>\n",
       "      <td>2010-01-13 03:21:35</td>\n",
       "      <td>2020-10-06 15:42:57</td>\n",
       "      <td>3919 days 12:21:22</td>\n",
       "      <td>3699 days 20:38:25</td>\n",
       "      <td>3699 days 20:38:25</td>\n",
       "    </tr>\n",
       "    <tr>\n",
       "      <th>zzqq8J7Pibxod1YcknlkWA</th>\n",
       "      <td>2014-08-10 05:00:35</td>\n",
       "      <td>2017-10-23 15:34:03</td>\n",
       "      <td>1170 days 10:33:28</td>\n",
       "      <td>2029 days 18:59:25</td>\n",
       "      <td>1170 days 10:33:28</td>\n",
       "    </tr>\n",
       "    <tr>\n",
       "      <th>zzwK-TJsCJX5wZrdtKemPg</th>\n",
       "      <td>2007-10-09 16:13:47</td>\n",
       "      <td>2016-08-02 16:31:57</td>\n",
       "      <td>3220 days 00:18:10</td>\n",
       "      <td>4526 days 07:46:13</td>\n",
       "      <td>3220 days 00:18:10</td>\n",
       "    </tr>\n",
       "    <tr>\n",
       "      <th>zzxIO4bjWCQrvCJ0O5mmvA</th>\n",
       "      <td>2011-11-02 14:02:07</td>\n",
       "      <td>2020-06-05 12:17:10</td>\n",
       "      <td>3137 days 22:15:03</td>\n",
       "      <td>3041 days 09:57:53</td>\n",
       "      <td>3041 days 09:57:53</td>\n",
       "    </tr>\n",
       "    <tr>\n",
       "      <th>zzzKmD9Mj6WtJwJUhA_1dg</th>\n",
       "      <td>2009-10-13 08:08:57</td>\n",
       "      <td>2012-01-05 07:25:19</td>\n",
       "      <td>813 days 23:16:22</td>\n",
       "      <td>3791 days 15:51:03</td>\n",
       "      <td>813 days 23:16:22</td>\n",
       "    </tr>\n",
       "  </tbody>\n",
       "</table>\n",
       "<p>138023 rows × 5 columns</p>\n",
       "</div>"
      ],
      "text/plain": [
       "                              new_date_old        new_date_new  \\\n",
       "business_id                                                      \n",
       "--0DF12EMHYI8XIgoFha6A 2014-11-25 20:35:03 2020-12-21 16:40:17   \n",
       "--0r8K_AQ4FZfLsX3ZYRDA 2017-09-03 17:15:48 2020-04-15 13:33:08   \n",
       "--164t1nclzzmca7eDiJMw 2009-03-17 01:53:31 2014-06-09 21:27:05   \n",
       "--2aF9NhXnNVpDV0KS3xBQ 2008-08-08 17:13:26 2021-01-01 14:39:44   \n",
       "--2mEJ63SC_8_08_jGgVIg 2015-09-25 00:41:57 2020-08-22 05:04:13   \n",
       "...                                    ...                 ...   \n",
       "zzngBb9MoGpkFe8tfowvvA 2010-01-13 03:21:35 2020-10-06 15:42:57   \n",
       "zzqq8J7Pibxod1YcknlkWA 2014-08-10 05:00:35 2017-10-23 15:34:03   \n",
       "zzwK-TJsCJX5wZrdtKemPg 2007-10-09 16:13:47 2016-08-02 16:31:57   \n",
       "zzxIO4bjWCQrvCJ0O5mmvA 2011-11-02 14:02:07 2020-06-05 12:17:10   \n",
       "zzzKmD9Mj6WtJwJUhA_1dg 2009-10-13 08:08:57 2012-01-05 07:25:19   \n",
       "\n",
       "                                 duration       pan_duration  \\\n",
       "business_id                                                    \n",
       "--0DF12EMHYI8XIgoFha6A 2217 days 20:05:14 1922 days 03:24:57   \n",
       "--0r8K_AQ4FZfLsX3ZYRDA  954 days 20:17:20  909 days 06:44:12   \n",
       "--164t1nclzzmca7eDiJMw 1910 days 19:33:34 4001 days 22:06:29   \n",
       "--2aF9NhXnNVpDV0KS3xBQ 4528 days 21:26:18 4222 days 06:46:34   \n",
       "--2mEJ63SC_8_08_jGgVIg 1793 days 04:22:16 1618 days 23:18:03   \n",
       "...                                   ...                ...   \n",
       "zzngBb9MoGpkFe8tfowvvA 3919 days 12:21:22 3699 days 20:38:25   \n",
       "zzqq8J7Pibxod1YcknlkWA 1170 days 10:33:28 2029 days 18:59:25   \n",
       "zzwK-TJsCJX5wZrdtKemPg 3220 days 00:18:10 4526 days 07:46:13   \n",
       "zzxIO4bjWCQrvCJ0O5mmvA 3137 days 22:15:03 3041 days 09:57:53   \n",
       "zzzKmD9Mj6WtJwJUhA_1dg  813 days 23:16:22 3791 days 15:51:03   \n",
       "\n",
       "                           duration_toUse  \n",
       "business_id                                \n",
       "--0DF12EMHYI8XIgoFha6A 1922 days 03:24:57  \n",
       "--0r8K_AQ4FZfLsX3ZYRDA  909 days 06:44:12  \n",
       "--164t1nclzzmca7eDiJMw 1910 days 19:33:34  \n",
       "--2aF9NhXnNVpDV0KS3xBQ 4222 days 06:46:34  \n",
       "--2mEJ63SC_8_08_jGgVIg 1618 days 23:18:03  \n",
       "...                                   ...  \n",
       "zzngBb9MoGpkFe8tfowvvA 3699 days 20:38:25  \n",
       "zzqq8J7Pibxod1YcknlkWA 1170 days 10:33:28  \n",
       "zzwK-TJsCJX5wZrdtKemPg 3220 days 00:18:10  \n",
       "zzxIO4bjWCQrvCJ0O5mmvA 3041 days 09:57:53  \n",
       "zzzKmD9Mj6WtJwJUhA_1dg  813 days 23:16:22  \n",
       "\n",
       "[138023 rows x 5 columns]"
      ]
     },
     "execution_count": 170,
     "metadata": {},
     "output_type": "execute_result"
    }
   ],
   "source": [
    "business_pan_eligible"
   ]
  },
  {
   "cell_type": "code",
   "execution_count": null,
   "id": "d4e9aafd",
   "metadata": {},
   "outputs": [],
   "source": []
  }
 ],
 "metadata": {
  "kernelspec": {
   "display_name": "Python 3",
   "language": "python",
   "name": "python3"
  },
  "language_info": {
   "codemirror_mode": {
    "name": "ipython",
    "version": 3
   },
   "file_extension": ".py",
   "mimetype": "text/x-python",
   "name": "python",
   "nbconvert_exporter": "python",
   "pygments_lexer": "ipython3",
   "version": "3.9.0"
  }
 },
 "nbformat": 4,
 "nbformat_minor": 5
}
