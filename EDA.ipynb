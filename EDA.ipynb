{
 "cells": [
  {
   "cell_type": "code",
   "execution_count": 1,
   "id": "62357d18",
   "metadata": {},
   "outputs": [],
   "source": [
    "import json\n",
    "import pandas as pd\n",
    "import numpy as np\n",
    "import datetime\n",
    "import matplotlib.pyplot as plt\n",
    "plt.rcParams['figure.figsize'] = [16, 9]"
   ]
  },
  {
   "cell_type": "code",
   "execution_count": 7,
   "id": "f1700309",
   "metadata": {},
   "outputs": [],
   "source": [
    "#load data\n",
    "review_df = pd.read_pickle('review_df.pkl')"
   ]
  },
  {
   "cell_type": "code",
   "execution_count": 4,
   "id": "059dc0a8",
   "metadata": {},
   "outputs": [],
   "source": [
    "business_tokeep = pd.read_pickle('business_tokeep.pkl')\n",
    "business_pan_eligible = pd.read_pickle('business_pan_eligible.pkl').reset_index()\n",
    "business_pan_eligible['duration_toUse'] = business_pan_eligible['duration_toUse'].dt.days.astype('int16')/365"
   ]
  },
  {
   "cell_type": "code",
   "execution_count": 8,
   "id": "65ca6627",
   "metadata": {},
   "outputs": [
    {
     "data": {
      "image/png": "[encoded data removed]",
      "text/plain": [
       "<Figure size 1152x648 with 2 Axes>"
      ]
     },
     "metadata": {
      "needs_background": "light"
     },
     "output_type": "display_data"
    }
   ],
   "source": [
    "fig, (ax1, ax2) = plt.subplots(1, 2) \n",
    "fig.suptitle('Histogram of businesses review history duration', fontsize = 24)\n",
    "ax1.hist(business_pan_eligible['duration_toUse'], bins=15)\n",
    "ax1.set_xlabel('Years', fontsize = 18)\n",
    "ax1.set_ylabel('Count of businesses', fontsize = 18)\n",
    "#ax1.title('Histogram of businesses review history')\n",
    "\n",
    "ax2.hist(business_pan_eligible['duration_toUse'], bins=15, density=True, cumulative=True)\n",
    "ax2.set_xlabel('Years', fontsize = 18)\n",
    "ax2.set_ylabel('Cumulative ratio of businesses', fontsize = 18)\n",
    "#ax2.title('Histogram of businesses review history')\n",
    "plt.show()"
   ]
  },
  {
   "cell_type": "code",
   "execution_count": 4,
   "id": "3eec0c4c",
   "metadata": {},
   "outputs": [
    {
     "data": {
      "text/html": [
       "<div>\n",
       "<style scoped>\n",
       "    .dataframe tbody tr th:only-of-type {\n",
       "        vertical-align: middle;\n",
       "    }\n",
       "\n",
       "    .dataframe tbody tr th {\n",
       "        vertical-align: top;\n",
       "    }\n",
       "\n",
       "    .dataframe thead th {\n",
       "        text-align: right;\n",
       "    }\n",
       "</style>\n",
       "<table border=\"1\" class=\"dataframe\">\n",
       "  <thead>\n",
       "    <tr style=\"text-align: right;\">\n",
       "      <th></th>\n",
       "      <th>review_id</th>\n",
       "      <th>user_id</th>\n",
       "      <th>business_id</th>\n",
       "      <th>stars</th>\n",
       "      <th>useful</th>\n",
       "      <th>funny</th>\n",
       "      <th>cool</th>\n",
       "      <th>text</th>\n",
       "      <th>date</th>\n",
       "    </tr>\n",
       "  </thead>\n",
       "  <tbody>\n",
       "    <tr>\n",
       "      <th>0</th>\n",
       "      <td>lWC-xP3rd6obsecCYsGZRg</td>\n",
       "      <td>ak0TdVmGKo4pwqdJSTLwWw</td>\n",
       "      <td>buF9druCkbuXLX526sGELQ</td>\n",
       "      <td>4.0</td>\n",
       "      <td>3</td>\n",
       "      <td>1</td>\n",
       "      <td>1</td>\n",
       "      <td>Apparently Prides Osteria had a rough summer a...</td>\n",
       "      <td>2014-10-11 03:34:02</td>\n",
       "    </tr>\n",
       "    <tr>\n",
       "      <th>1</th>\n",
       "      <td>8bFej1QE5LXp4O05qjGqXA</td>\n",
       "      <td>YoVfDbnISlW0f7abNQACIg</td>\n",
       "      <td>RA4V8pr014UyUbDvI-LW2A</td>\n",
       "      <td>4.0</td>\n",
       "      <td>1</td>\n",
       "      <td>0</td>\n",
       "      <td>0</td>\n",
       "      <td>This store is pretty good. Not as great as Wal...</td>\n",
       "      <td>2015-07-03 20:38:25</td>\n",
       "    </tr>\n",
       "    <tr>\n",
       "      <th>2</th>\n",
       "      <td>NDhkzczKjLshODbqDoNLSg</td>\n",
       "      <td>eC5evKn1TWDyHCyQAwguUw</td>\n",
       "      <td>_sS2LBIGNT5NQb6PD1Vtjw</td>\n",
       "      <td>5.0</td>\n",
       "      <td>0</td>\n",
       "      <td>0</td>\n",
       "      <td>0</td>\n",
       "      <td>I called WVM on the recommendation of a couple...</td>\n",
       "      <td>2013-05-28 20:38:06</td>\n",
       "    </tr>\n",
       "    <tr>\n",
       "      <th>3</th>\n",
       "      <td>T5fAqjjFooT4V0OeZyuk1w</td>\n",
       "      <td>SFQ1jcnGguO0LYWnbbftAA</td>\n",
       "      <td>0AzLzHfOJgL7ROwhdww2ew</td>\n",
       "      <td>2.0</td>\n",
       "      <td>1</td>\n",
       "      <td>1</td>\n",
       "      <td>1</td>\n",
       "      <td>I've stayed at many Marriott and Renaissance M...</td>\n",
       "      <td>2010-01-08 02:29:15</td>\n",
       "    </tr>\n",
       "    <tr>\n",
       "      <th>4</th>\n",
       "      <td>sjm_uUcQVxab_EeLCqsYLg</td>\n",
       "      <td>0kA0PAJ8QFMeveQWHFqz2A</td>\n",
       "      <td>8zehGz9jnxPqXtOc7KaJxA</td>\n",
       "      <td>4.0</td>\n",
       "      <td>0</td>\n",
       "      <td>0</td>\n",
       "      <td>0</td>\n",
       "      <td>The food is always great here. The service fro...</td>\n",
       "      <td>2011-07-28 18:05:01</td>\n",
       "    </tr>\n",
       "  </tbody>\n",
       "</table>\n",
       "</div>"
      ],
      "text/plain": [
       "                review_id                 user_id             business_id  \\\n",
       "0  lWC-xP3rd6obsecCYsGZRg  ak0TdVmGKo4pwqdJSTLwWw  buF9druCkbuXLX526sGELQ   \n",
       "1  8bFej1QE5LXp4O05qjGqXA  YoVfDbnISlW0f7abNQACIg  RA4V8pr014UyUbDvI-LW2A   \n",
       "2  NDhkzczKjLshODbqDoNLSg  eC5evKn1TWDyHCyQAwguUw  _sS2LBIGNT5NQb6PD1Vtjw   \n",
       "3  T5fAqjjFooT4V0OeZyuk1w  SFQ1jcnGguO0LYWnbbftAA  0AzLzHfOJgL7ROwhdww2ew   \n",
       "4  sjm_uUcQVxab_EeLCqsYLg  0kA0PAJ8QFMeveQWHFqz2A  8zehGz9jnxPqXtOc7KaJxA   \n",
       "\n",
       "   stars  useful  funny  cool  \\\n",
       "0    4.0       3      1     1   \n",
       "1    4.0       1      0     0   \n",
       "2    5.0       0      0     0   \n",
       "3    2.0       1      1     1   \n",
       "4    4.0       0      0     0   \n",
       "\n",
       "                                                text                 date  \n",
       "0  Apparently Prides Osteria had a rough summer a...  2014-10-11 03:34:02  \n",
       "1  This store is pretty good. Not as great as Wal...  2015-07-03 20:38:25  \n",
       "2  I called WVM on the recommendation of a couple...  2013-05-28 20:38:06  \n",
       "3  I've stayed at many Marriott and Renaissance M...  2010-01-08 02:29:15  \n",
       "4  The food is always great here. The service fro...  2011-07-28 18:05:01  "
      ]
     },
     "execution_count": 4,
     "metadata": {},
     "output_type": "execute_result"
    }
   ],
   "source": [
    "review_df.head()"
   ]
  },
  {
   "cell_type": "code",
   "execution_count": 9,
   "id": "babc5166",
   "metadata": {},
   "outputs": [],
   "source": [
    "selected_review = review_df[(review_df[\"business_id\"].isin(business_pan_eligible['business_id'])) & \n",
    "                           (review_df['date'] < '2020-03-01')]"
   ]
  },
  {
   "cell_type": "code",
   "execution_count": 10,
   "id": "7ca3c8b5",
   "metadata": {},
   "outputs": [
    {
     "data": {
      "text/plain": [
       "7696848"
      ]
     },
     "execution_count": 10,
     "metadata": {},
     "output_type": "execute_result"
    }
   ],
   "source": [
    "len(selected_review)"
   ]
  },
  {
   "cell_type": "code",
   "execution_count": null,
   "id": "95483dc8",
   "metadata": {},
   "outputs": [],
   "source": []
  },
  {
   "cell_type": "code",
   "execution_count": 11,
   "id": "b0d24ae6",
   "metadata": {},
   "outputs": [],
   "source": [
    "# filtered reviews count after group by business\n",
    "review_count = selected_review.groupby('business_id').count()\n",
    "# review count for each business follow powerlaw"
   ]
  },
  {
   "cell_type": "code",
   "execution_count": 12,
   "id": "354de828",
   "metadata": {},
   "outputs": [
    {
     "data": {
      "text/plain": [
       "138023"
      ]
     },
     "execution_count": 12,
     "metadata": {},
     "output_type": "execute_result"
    }
   ],
   "source": [
    "len(review_count)"
   ]
  },
  {
   "cell_type": "code",
   "execution_count": 13,
   "id": "c8b73a72",
   "metadata": {},
   "outputs": [],
   "source": [
    "# just for fun, fit it with power law\n",
    "import powerlaw"
   ]
  },
  {
   "cell_type": "code",
   "execution_count": 14,
   "id": "89701817",
   "metadata": {},
   "outputs": [
    {
     "name": "stderr",
     "output_type": "stream",
     "text": [
      "Calculating best minimal value for power law fit\n",
      "/Library/Frameworks/Python.framework/Versions/3.9/lib/python3.9/site-packages/powerlaw.py:699: RuntimeWarning: invalid value encountered in true_divide\n",
      "  (CDF_diff**2) /\n"
     ]
    },
    {
     "data": {
      "text/plain": [
       "424.0"
      ]
     },
     "execution_count": 14,
     "metadata": {},
     "output_type": "execute_result"
    }
   ],
   "source": [
    "count = review_count.review_id\n",
    "fitted = powerlaw.Fit(count)\n",
    "fitted.xmin"
   ]
  },
  {
   "cell_type": "code",
   "execution_count": 15,
   "id": "0c2466b7",
   "metadata": {},
   "outputs": [
    {
     "data": {
      "image/png": "[encoded data removed]",
      "text/plain": [
       "<Figure size 1440x576 with 2 Axes>"
      ]
     },
     "metadata": {
      "needs_background": "light"
     },
     "output_type": "display_data"
    }
   ],
   "source": [
    "fig, (ax1, ax2) = plt.subplots(1, 2, figsize=[20, 8]) \n",
    "fig.suptitle('Histogram of review count for selected businesses', fontsize = 24)\n",
    "ax1.hist(review_count['review_id'], bins=30)\n",
    "ax1.set_xlabel('Number of reviews received by businesses', fontsize = 18)\n",
    "ax1.set_ylabel('Count of businesses', fontsize = 18)\n",
    "\n",
    "ax2.hist(review_count['review_id'], bins=30, density=True, histtype='step', cumulative=True)\n",
    "ax2.set_xlabel('Number of reviews received by businesses', fontsize = 18)\n",
    "ax2.set_xscale('log')\n",
    "ax2.set_yscale('log')\n",
    "ax2.set_ylabel('Cumulative ratio of businesses', fontsize = 18)\n",
    "\n",
    "plt.show()"
   ]
  },
  {
   "cell_type": "code",
   "execution_count": null,
   "id": "968912b1",
   "metadata": {},
   "outputs": [],
   "source": [
    "# need to further filter businesses - take businesses with top 10% review counts\n",
    "# this will still give us ~13000 businesses to analyze"
   ]
  },
  {
   "cell_type": "code",
   "execution_count": 16,
   "id": "3706c258",
   "metadata": {},
   "outputs": [],
   "source": [
    "further_filtered_business = review_count[review_count['review_id'] >= \n",
    "                                         review_count['review_id'].quantile(0.9)].reset_index()"
   ]
  },
  {
   "cell_type": "code",
   "execution_count": 17,
   "id": "e80f7c4d",
   "metadata": {},
   "outputs": [
    {
     "data": {
      "text/html": [
       "<div>\n",
       "<style scoped>\n",
       "    .dataframe tbody tr th:only-of-type {\n",
       "        vertical-align: middle;\n",
       "    }\n",
       "\n",
       "    .dataframe tbody tr th {\n",
       "        vertical-align: top;\n",
       "    }\n",
       "\n",
       "    .dataframe thead th {\n",
       "        text-align: right;\n",
       "    }\n",
       "</style>\n",
       "<table border=\"1\" class=\"dataframe\">\n",
       "  <thead>\n",
       "    <tr style=\"text-align: right;\">\n",
       "      <th></th>\n",
       "      <th>business_id</th>\n",
       "      <th>review_id</th>\n",
       "      <th>user_id</th>\n",
       "      <th>stars</th>\n",
       "      <th>useful</th>\n",
       "      <th>funny</th>\n",
       "      <th>cool</th>\n",
       "      <th>text</th>\n",
       "      <th>date</th>\n",
       "    </tr>\n",
       "  </thead>\n",
       "  <tbody>\n",
       "    <tr>\n",
       "      <th>0</th>\n",
       "      <td>--164t1nclzzmca7eDiJMw</td>\n",
       "      <td>147</td>\n",
       "      <td>147</td>\n",
       "      <td>147</td>\n",
       "      <td>147</td>\n",
       "      <td>147</td>\n",
       "      <td>147</td>\n",
       "      <td>147</td>\n",
       "      <td>147</td>\n",
       "    </tr>\n",
       "    <tr>\n",
       "      <th>1</th>\n",
       "      <td>--UNNdnHRhsyFUbDgumdtQ</td>\n",
       "      <td>1251</td>\n",
       "      <td>1251</td>\n",
       "      <td>1251</td>\n",
       "      <td>1251</td>\n",
       "      <td>1251</td>\n",
       "      <td>1251</td>\n",
       "      <td>1251</td>\n",
       "      <td>1251</td>\n",
       "    </tr>\n",
       "    <tr>\n",
       "      <th>2</th>\n",
       "      <td>--hkbIWgBKBOZq4VcNwdhQ</td>\n",
       "      <td>424</td>\n",
       "      <td>424</td>\n",
       "      <td>424</td>\n",
       "      <td>424</td>\n",
       "      <td>424</td>\n",
       "      <td>424</td>\n",
       "      <td>424</td>\n",
       "      <td>424</td>\n",
       "    </tr>\n",
       "    <tr>\n",
       "      <th>3</th>\n",
       "      <td>-0A60UZl9nbdq2WWySJ_tQ</td>\n",
       "      <td>285</td>\n",
       "      <td>285</td>\n",
       "      <td>285</td>\n",
       "      <td>285</td>\n",
       "      <td>285</td>\n",
       "      <td>285</td>\n",
       "      <td>285</td>\n",
       "      <td>285</td>\n",
       "    </tr>\n",
       "    <tr>\n",
       "      <th>4</th>\n",
       "      <td>-0iqnv7MjKrgh7Q7bYRlUQ</td>\n",
       "      <td>440</td>\n",
       "      <td>440</td>\n",
       "      <td>440</td>\n",
       "      <td>440</td>\n",
       "      <td>440</td>\n",
       "      <td>440</td>\n",
       "      <td>440</td>\n",
       "      <td>440</td>\n",
       "    </tr>\n",
       "  </tbody>\n",
       "</table>\n",
       "</div>"
      ],
      "text/plain": [
       "              business_id  review_id  user_id  stars  useful  funny  cool  \\\n",
       "0  --164t1nclzzmca7eDiJMw        147      147    147     147    147   147   \n",
       "1  --UNNdnHRhsyFUbDgumdtQ       1251     1251   1251    1251   1251  1251   \n",
       "2  --hkbIWgBKBOZq4VcNwdhQ        424      424    424     424    424   424   \n",
       "3  -0A60UZl9nbdq2WWySJ_tQ        285      285    285     285    285   285   \n",
       "4  -0iqnv7MjKrgh7Q7bYRlUQ        440      440    440     440    440   440   \n",
       "\n",
       "   text  date  \n",
       "0   147   147  \n",
       "1  1251  1251  \n",
       "2   424   424  \n",
       "3   285   285  \n",
       "4   440   440  "
      ]
     },
     "execution_count": 17,
     "metadata": {},
     "output_type": "execute_result"
    }
   ],
   "source": [
    "further_filtered_business.head()"
   ]
  },
  {
   "cell_type": "code",
   "execution_count": 18,
   "id": "9d2edf9d",
   "metadata": {},
   "outputs": [],
   "source": [
    "further_filtered_business.to_pickle('preprocessed_business.pkl')"
   ]
  },
  {
   "cell_type": "code",
   "execution_count": 153,
   "id": "a1dab305",
   "metadata": {},
   "outputs": [],
   "source": [
    "further_filtered_reviews = selected_review[selected_review[\"business_id\"].isin(\n",
    "    further_filtered_business['business_id'])]"
   ]
  },
  {
   "cell_type": "code",
   "execution_count": 113,
   "id": "bf149f66",
   "metadata": {},
   "outputs": [
    {
     "data": {
      "text/plain": [
       "4438241"
      ]
     },
     "execution_count": 113,
     "metadata": {},
     "output_type": "execute_result"
    }
   ],
   "source": [
    "len(further_filtered_reviews)"
   ]
  },
  {
   "cell_type": "code",
   "execution_count": 114,
   "id": "851c1281",
   "metadata": {},
   "outputs": [],
   "source": [
    "# save the further_filtered_review into pickle\n",
    "further_filtered_reviews.to_pickle('preprocessed_review.pkl')"
   ]
  },
  {
   "cell_type": "code",
   "execution_count": 2,
   "id": "790084f9",
   "metadata": {},
   "outputs": [],
   "source": [
    "further_filtered_reviews = pd.read_pickle('preprocessed_review.pkl')"
   ]
  },
  {
   "cell_type": "code",
   "execution_count": 19,
   "id": "cfed101e",
   "metadata": {},
   "outputs": [],
   "source": [
    "final_duration = business_pan_eligible[business_pan_eligible['business_id'].isin(\n",
    "    further_filtered_business['business_id'])]"
   ]
  },
  {
   "cell_type": "code",
   "execution_count": 20,
   "id": "03f0af21",
   "metadata": {},
   "outputs": [
    {
     "data": {
      "text/html": [
       "<div>\n",
       "<style scoped>\n",
       "    .dataframe tbody tr th:only-of-type {\n",
       "        vertical-align: middle;\n",
       "    }\n",
       "\n",
       "    .dataframe tbody tr th {\n",
       "        vertical-align: top;\n",
       "    }\n",
       "\n",
       "    .dataframe thead th {\n",
       "        text-align: right;\n",
       "    }\n",
       "</style>\n",
       "<table border=\"1\" class=\"dataframe\">\n",
       "  <thead>\n",
       "    <tr style=\"text-align: right;\">\n",
       "      <th></th>\n",
       "      <th>business_id</th>\n",
       "      <th>new_date_old</th>\n",
       "      <th>new_date_new</th>\n",
       "      <th>duration</th>\n",
       "      <th>pan_duration</th>\n",
       "      <th>duration_toUse</th>\n",
       "    </tr>\n",
       "  </thead>\n",
       "  <tbody>\n",
       "    <tr>\n",
       "      <th>2</th>\n",
       "      <td>--164t1nclzzmca7eDiJMw</td>\n",
       "      <td>2009-03-17 01:53:31</td>\n",
       "      <td>2014-06-09 21:27:05</td>\n",
       "      <td>1910 days 19:33:34</td>\n",
       "      <td>4001 days 22:06:29</td>\n",
       "      <td>5.232877</td>\n",
       "    </tr>\n",
       "    <tr>\n",
       "      <th>13</th>\n",
       "      <td>--UNNdnHRhsyFUbDgumdtQ</td>\n",
       "      <td>2006-09-13 19:29:54</td>\n",
       "      <td>2020-12-17 17:35:28</td>\n",
       "      <td>5208 days 22:05:34</td>\n",
       "      <td>4917 days 04:30:06</td>\n",
       "      <td>13.471233</td>\n",
       "    </tr>\n",
       "    <tr>\n",
       "      <th>19</th>\n",
       "      <td>--hkbIWgBKBOZq4VcNwdhQ</td>\n",
       "      <td>2014-05-30 00:40:40</td>\n",
       "      <td>2021-01-15 02:00:48</td>\n",
       "      <td>2422 days 01:20:08</td>\n",
       "      <td>2101 days 23:19:20</td>\n",
       "      <td>5.756164</td>\n",
       "    </tr>\n",
       "    <tr>\n",
       "      <th>38</th>\n",
       "      <td>-0A60UZl9nbdq2WWySJ_tQ</td>\n",
       "      <td>2007-01-28 19:00:15</td>\n",
       "      <td>2019-10-23 21:56:53</td>\n",
       "      <td>4651 days 02:56:38</td>\n",
       "      <td>4780 days 04:59:45</td>\n",
       "      <td>12.742466</td>\n",
       "    </tr>\n",
       "    <tr>\n",
       "      <th>63</th>\n",
       "      <td>-0iqnv7MjKrgh7Q7bYRlUQ</td>\n",
       "      <td>2011-01-30 01:57:51</td>\n",
       "      <td>2020-12-16 03:19:09</td>\n",
       "      <td>3608 days 01:21:18</td>\n",
       "      <td>3317 days 22:02:09</td>\n",
       "      <td>9.087671</td>\n",
       "    </tr>\n",
       "  </tbody>\n",
       "</table>\n",
       "</div>"
      ],
      "text/plain": [
       "               business_id        new_date_old        new_date_new  \\\n",
       "2   --164t1nclzzmca7eDiJMw 2009-03-17 01:53:31 2014-06-09 21:27:05   \n",
       "13  --UNNdnHRhsyFUbDgumdtQ 2006-09-13 19:29:54 2020-12-17 17:35:28   \n",
       "19  --hkbIWgBKBOZq4VcNwdhQ 2014-05-30 00:40:40 2021-01-15 02:00:48   \n",
       "38  -0A60UZl9nbdq2WWySJ_tQ 2007-01-28 19:00:15 2019-10-23 21:56:53   \n",
       "63  -0iqnv7MjKrgh7Q7bYRlUQ 2011-01-30 01:57:51 2020-12-16 03:19:09   \n",
       "\n",
       "             duration       pan_duration  duration_toUse  \n",
       "2  1910 days 19:33:34 4001 days 22:06:29        5.232877  \n",
       "13 5208 days 22:05:34 4917 days 04:30:06       13.471233  \n",
       "19 2422 days 01:20:08 2101 days 23:19:20        5.756164  \n",
       "38 4651 days 02:56:38 4780 days 04:59:45       12.742466  \n",
       "63 3608 days 01:21:18 3317 days 22:02:09        9.087671  "
      ]
     },
     "execution_count": 20,
     "metadata": {},
     "output_type": "execute_result"
    }
   ],
   "source": [
    "final_duration.head()"
   ]
  },
  {
   "cell_type": "code",
   "execution_count": 22,
   "id": "d1da2b86",
   "metadata": {},
   "outputs": [],
   "source": [
    "review_count_new = further_filtered_reviews.groupby('business_id').count()"
   ]
  },
  {
   "cell_type": "code",
   "execution_count": 23,
   "id": "ea289488",
   "metadata": {},
   "outputs": [
    {
     "data": {
      "text/plain": [
       "13814"
      ]
     },
     "execution_count": 23,
     "metadata": {},
     "output_type": "execute_result"
    }
   ],
   "source": [
    "len(review_count_new)"
   ]
  },
  {
   "cell_type": "code",
   "execution_count": 27,
   "id": "82a6c210",
   "metadata": {},
   "outputs": [
    {
     "data": {
      "image/png": "[encoded data removed]",
      "text/plain": [
       "<Figure size 1440x576 with 2 Axes>"
      ]
     },
     "metadata": {
      "needs_background": "light"
     },
     "output_type": "display_data"
    }
   ],
   "source": [
    "# now plot the distribution of review history by businesses\n",
    "fig, (ax1, ax2) = plt.subplots(1, 2, figsize=[20, 8]) \n",
    "fig.suptitle('Histogram of review duration and count for businesses after pre-processing', fontsize = 24)\n",
    "ax1.hist(final_duration['duration_toUse'], bins=15, density=True, cumulative=True, histtype='step')\n",
    "ax1.set_xlabel('Years', fontsize = 18)\n",
    "ax1.set_ylabel('Cumulative ratio of businesses', fontsize = 18)\n",
    "#ax1.title('duration of review history')\n",
    "\n",
    "ax2.hist(review_count_new['review_id'], bins=20, density=True, cumulative=True, histtype='step')\n",
    "ax2.set_xlabel('Number of reviews received by businesses', fontsize = 18)\n",
    "ax2.set_ylabel('Cumulative ratio of businesses', fontsize = 18)\n",
    "ax2.set_xscale('log')\n",
    "ax2.set_yscale('log')\n",
    "#ax2.title('total review count')\n",
    "plt.show()"
   ]
  },
  {
   "cell_type": "code",
   "execution_count": 44,
   "id": "04b7a0c0",
   "metadata": {},
   "outputs": [],
   "source": [
    "# function to categorize\n",
    "def assign_category(lists_of_strings):\n",
    "    for i in lists_of_strings:\n",
    "        if(\"Active Life\" in i):\n",
    "            output = \"Active Life\"\n",
    "        elif(\"Arts & Entertainment\" in i):\n",
    "            output = \"Arts & Entertainment\"\n",
    "        elif(\"Automotive\" in i):\n",
    "            output = \"Automotive\"\n",
    "        elif(\"Beauty & Spas\" in i):\n",
    "            output = \"Beauty & Spas\"\n",
    "        elif(\"education\" in i):\n",
    "            output = \"Education\"\n",
    "        elif(\"Event Planning & Services\" in i):\n",
    "            output = \"Event Planning & Services\"\n",
    "        elif(\"Financial Services\" in i):\n",
    "            output = \"Financial Services\"\n",
    "        elif(\"Food\" in i):\n",
    "            output = \"Food\"\n",
    "        elif(\"Health & Medical\" in i):\n",
    "            output = \"Health & Medical\"\n",
    "        elif(\"Home Services\" in i):\n",
    "            output = \"Home Services\"\n",
    "        elif(\"Hotels & Travel\" in i):\n",
    "            output = \"Hotels & Travel\"\n",
    "        elif(\"Local Flavor\" in i):\n",
    "            output = \"Local Flavor\"\n",
    "        elif(\"Local Services\" in i):\n",
    "            output = \"Local Services\"\n",
    "        elif(\"Mass Media\" in i):\n",
    "            output = \"Mass Media\"\n",
    "        elif(\"Nightlife\" in i):\n",
    "            output = \"Nightlife\"\n",
    "        elif(\"Pets\" in i):\n",
    "            output = \"Pets\"\n",
    "        elif(\"Professional Services\" in i):\n",
    "            output = \"Professional Services\"\n",
    "        elif(\"Public Services & Government\" in i):\n",
    "            output = \"Public Services & Government\"\n",
    "        elif(\"Real Estate\" in i):\n",
    "            output = \"Real Estate\"\n",
    "        elif(\"Religious Organizations\" in i):\n",
    "            output = \"Religious Organizations\"\n",
    "        elif(\"Restaurants\" in i):\n",
    "            output = \"Restaurants\"\n",
    "        elif(\"Shopping\" in i):\n",
    "            output = \"Shopping\"\n",
    "    return output"
   ]
  },
  {
   "cell_type": "code",
   "execution_count": 35,
   "id": "a5dbbe7b",
   "metadata": {},
   "outputs": [],
   "source": [
    "# Load business.json and filter out the 13000 we need\n",
    "path = '/Users/ncr5341/Documents/Coursework/DataPipeline/yelp_dataset/'\n",
    "business_df = pd.read_json(path+'yelp_academic_dataset_business.json', lines=True)\n"
   ]
  },
  {
   "cell_type": "code",
   "execution_count": 51,
   "id": "5194f762",
   "metadata": {},
   "outputs": [],
   "source": [
    "subset_business = business_df[business_df['business_id'].isin(further_filtered_business['business_id'])]"
   ]
  },
  {
   "cell_type": "code",
   "execution_count": 52,
   "id": "f4990b8a",
   "metadata": {},
   "outputs": [],
   "source": [
    "subset_business = subset_business.assign(\n",
    "    main_category = assign_category(subset_business['categories']))"
   ]
  },
  {
   "cell_type": "code",
   "execution_count": 53,
   "id": "db9c8dc5",
   "metadata": {},
   "outputs": [
    {
     "data": {
      "text/html": [
       "<div>\n",
       "<style scoped>\n",
       "    .dataframe tbody tr th:only-of-type {\n",
       "        vertical-align: middle;\n",
       "    }\n",
       "\n",
       "    .dataframe tbody tr th {\n",
       "        vertical-align: top;\n",
       "    }\n",
       "\n",
       "    .dataframe thead th {\n",
       "        text-align: right;\n",
       "    }\n",
       "</style>\n",
       "<table border=\"1\" class=\"dataframe\">\n",
       "  <thead>\n",
       "    <tr style=\"text-align: right;\">\n",
       "      <th></th>\n",
       "      <th>business_id</th>\n",
       "      <th>name</th>\n",
       "      <th>address</th>\n",
       "      <th>city</th>\n",
       "      <th>state</th>\n",
       "      <th>postal_code</th>\n",
       "      <th>latitude</th>\n",
       "      <th>longitude</th>\n",
       "      <th>stars</th>\n",
       "      <th>review_count</th>\n",
       "      <th>is_open</th>\n",
       "      <th>attributes</th>\n",
       "      <th>categories</th>\n",
       "      <th>hours</th>\n",
       "      <th>main_category</th>\n",
       "    </tr>\n",
       "  </thead>\n",
       "  <tbody>\n",
       "    <tr>\n",
       "      <th>5</th>\n",
       "      <td>D4JtQNTI4X3KcbzacDJsMw</td>\n",
       "      <td>Bob Likes Thai Food</td>\n",
       "      <td>3755 Main St</td>\n",
       "      <td>Vancouver</td>\n",
       "      <td>BC</td>\n",
       "      <td>V5V</td>\n",
       "      <td>49.251342</td>\n",
       "      <td>-123.101333</td>\n",
       "      <td>3.5</td>\n",
       "      <td>169</td>\n",
       "      <td>1</td>\n",
       "      <td>{'GoodForKids': 'True', 'Alcohol': 'u'none'', ...</td>\n",
       "      <td>Restaurants, Thai</td>\n",
       "      <td>{'Monday': '17:0-21:0', 'Tuesday': '17:0-21:0'...</td>\n",
       "      <td>Restaurants</td>\n",
       "    </tr>\n",
       "    <tr>\n",
       "      <th>13</th>\n",
       "      <td>ufCxltuh56FF4-ZFZ6cVhg</td>\n",
       "      <td>Sister Honey's</td>\n",
       "      <td>247 E Michigan St</td>\n",
       "      <td>Orlando</td>\n",
       "      <td>FL</td>\n",
       "      <td>32806</td>\n",
       "      <td>28.513265</td>\n",
       "      <td>-81.374707</td>\n",
       "      <td>4.5</td>\n",
       "      <td>135</td>\n",
       "      <td>1</td>\n",
       "      <td>{'BusinessParking': '{'garage': False, 'street...</td>\n",
       "      <td>Restaurants, American (New), Bakeries, Dessert...</td>\n",
       "      <td>{'Tuesday': '11:0-18:0', 'Wednesday': '11:0-18...</td>\n",
       "      <td>Restaurants</td>\n",
       "    </tr>\n",
       "    <tr>\n",
       "      <th>23</th>\n",
       "      <td>j68RDnvOaYEwGcY9cTEHpA</td>\n",
       "      <td>Pittock Mansion</td>\n",
       "      <td>3229 NW Pittock Dr</td>\n",
       "      <td>Portland</td>\n",
       "      <td>OR</td>\n",
       "      <td>97210</td>\n",
       "      <td>45.525259</td>\n",
       "      <td>-122.716227</td>\n",
       "      <td>4.5</td>\n",
       "      <td>406</td>\n",
       "      <td>1</td>\n",
       "      <td>{'BusinessAcceptsCreditCards': 'True', 'GoodFo...</td>\n",
       "      <td>Tours, Museums, Architectural Tours, Venues &amp; ...</td>\n",
       "      <td>{'Monday': '0:0-0:0', 'Thursday': '10:0-16:0',...</td>\n",
       "      <td>Restaurants</td>\n",
       "    </tr>\n",
       "    <tr>\n",
       "      <th>24</th>\n",
       "      <td>nTIhpR7MhsALPwg_Hh14EA</td>\n",
       "      <td>DoubleTree by Hilton Hotel Austin</td>\n",
       "      <td>6505 N Interstate 35</td>\n",
       "      <td>Austin</td>\n",
       "      <td>TX</td>\n",
       "      <td>78752</td>\n",
       "      <td>30.326377</td>\n",
       "      <td>-97.704543</td>\n",
       "      <td>3.0</td>\n",
       "      <td>139</td>\n",
       "      <td>1</td>\n",
       "      <td>{'WiFi': 'u'free'', 'RestaurantsPriceRange2': ...</td>\n",
       "      <td>Hotels, Hotels &amp; Travel, Event Planning &amp; Serv...</td>\n",
       "      <td>{'Monday': '0:0-0:0', 'Tuesday': '0:0-0:0', 'W...</td>\n",
       "      <td>Restaurants</td>\n",
       "    </tr>\n",
       "    <tr>\n",
       "      <th>28</th>\n",
       "      <td>arEXRZYu8220bFBJ3VAh3A</td>\n",
       "      <td>Blake's On The Park</td>\n",
       "      <td>227 10th St NE</td>\n",
       "      <td>Atlanta</td>\n",
       "      <td>GA</td>\n",
       "      <td>30309</td>\n",
       "      <td>33.781475</td>\n",
       "      <td>-84.379955</td>\n",
       "      <td>3.5</td>\n",
       "      <td>170</td>\n",
       "      <td>1</td>\n",
       "      <td>{'Alcohol': ''full_bar'', 'BusinessParking': '...</td>\n",
       "      <td>Nightlife, Bars, Gay Bars, Sports Bars</td>\n",
       "      <td>{'Monday': '15:0-3:0', 'Tuesday': '15:0-3:0', ...</td>\n",
       "      <td>Restaurants</td>\n",
       "    </tr>\n",
       "  </tbody>\n",
       "</table>\n",
       "</div>"
      ],
      "text/plain": [
       "               business_id                               name  \\\n",
       "5   D4JtQNTI4X3KcbzacDJsMw                Bob Likes Thai Food   \n",
       "13  ufCxltuh56FF4-ZFZ6cVhg                     Sister Honey's   \n",
       "23  j68RDnvOaYEwGcY9cTEHpA                    Pittock Mansion   \n",
       "24  nTIhpR7MhsALPwg_Hh14EA  DoubleTree by Hilton Hotel Austin   \n",
       "28  arEXRZYu8220bFBJ3VAh3A                Blake's On The Park   \n",
       "\n",
       "                 address       city state postal_code   latitude   longitude  \\\n",
       "5           3755 Main St  Vancouver    BC         V5V  49.251342 -123.101333   \n",
       "13     247 E Michigan St    Orlando    FL       32806  28.513265  -81.374707   \n",
       "23    3229 NW Pittock Dr   Portland    OR       97210  45.525259 -122.716227   \n",
       "24  6505 N Interstate 35     Austin    TX       78752  30.326377  -97.704543   \n",
       "28        227 10th St NE    Atlanta    GA       30309  33.781475  -84.379955   \n",
       "\n",
       "    stars  review_count  is_open  \\\n",
       "5     3.5           169        1   \n",
       "13    4.5           135        1   \n",
       "23    4.5           406        1   \n",
       "24    3.0           139        1   \n",
       "28    3.5           170        1   \n",
       "\n",
       "                                           attributes  \\\n",
       "5   {'GoodForKids': 'True', 'Alcohol': 'u'none'', ...   \n",
       "13  {'BusinessParking': '{'garage': False, 'street...   \n",
       "23  {'BusinessAcceptsCreditCards': 'True', 'GoodFo...   \n",
       "24  {'WiFi': 'u'free'', 'RestaurantsPriceRange2': ...   \n",
       "28  {'Alcohol': ''full_bar'', 'BusinessParking': '...   \n",
       "\n",
       "                                           categories  \\\n",
       "5                                   Restaurants, Thai   \n",
       "13  Restaurants, American (New), Bakeries, Dessert...   \n",
       "23  Tours, Museums, Architectural Tours, Venues & ...   \n",
       "24  Hotels, Hotels & Travel, Event Planning & Serv...   \n",
       "28             Nightlife, Bars, Gay Bars, Sports Bars   \n",
       "\n",
       "                                                hours main_category  \n",
       "5   {'Monday': '17:0-21:0', 'Tuesday': '17:0-21:0'...   Restaurants  \n",
       "13  {'Tuesday': '11:0-18:0', 'Wednesday': '11:0-18...   Restaurants  \n",
       "23  {'Monday': '0:0-0:0', 'Thursday': '10:0-16:0',...   Restaurants  \n",
       "24  {'Monday': '0:0-0:0', 'Tuesday': '0:0-0:0', 'W...   Restaurants  \n",
       "28  {'Monday': '15:0-3:0', 'Tuesday': '15:0-3:0', ...   Restaurants  "
      ]
     },
     "execution_count": 53,
     "metadata": {},
     "output_type": "execute_result"
    }
   ],
   "source": [
    "subset_business.head()"
   ]
  },
  {
   "cell_type": "code",
   "execution_count": 56,
   "id": "779ae19f",
   "metadata": {},
   "outputs": [],
   "source": [
    "type_count = subset_business['main_category'].value_counts()"
   ]
  },
  {
   "cell_type": "code",
   "execution_count": 57,
   "id": "72201867",
   "metadata": {},
   "outputs": [
    {
     "data": {
      "text/plain": [
       "Restaurants    13814\n",
       "Name: main_category, dtype: int64"
      ]
     },
     "execution_count": 57,
     "metadata": {},
     "output_type": "execute_result"
    }
   ],
   "source": [
    "type_count"
   ]
  },
  {
   "cell_type": "code",
   "execution_count": null,
   "id": "e5e554a6",
   "metadata": {},
   "outputs": [],
   "source": []
  },
  {
   "cell_type": "code",
   "execution_count": null,
   "id": "03de681c",
   "metadata": {},
   "outputs": [],
   "source": []
  },
  {
   "cell_type": "code",
   "execution_count": null,
   "id": "c9af21c6",
   "metadata": {},
   "outputs": [],
   "source": []
  },
  {
   "cell_type": "code",
   "execution_count": null,
   "id": "def48503",
   "metadata": {},
   "outputs": [],
   "source": []
  },
  {
   "cell_type": "code",
   "execution_count": null,
   "id": "b881f293",
   "metadata": {},
   "outputs": [],
   "source": []
  },
  {
   "cell_type": "code",
   "execution_count": null,
   "id": "ce243378",
   "metadata": {},
   "outputs": [],
   "source": []
  },
  {
   "cell_type": "code",
   "execution_count": 28,
   "id": "a5561ae6",
   "metadata": {},
   "outputs": [],
   "source": [
    "# test business_id\n",
    "test_set = {'buF9druCkbuXLX526sGELQ', 'RA4V8pr014UyUbDvI-LW2A'}\n",
    "test_reviews = selected_review[selected_review[\"business_id\"].isin(test_set)]"
   ]
  },
  {
   "cell_type": "code",
   "execution_count": 29,
   "id": "bb46a6ee",
   "metadata": {},
   "outputs": [
    {
     "data": {
      "text/html": [
       "<div>\n",
       "<style scoped>\n",
       "    .dataframe tbody tr th:only-of-type {\n",
       "        vertical-align: middle;\n",
       "    }\n",
       "\n",
       "    .dataframe tbody tr th {\n",
       "        vertical-align: top;\n",
       "    }\n",
       "\n",
       "    .dataframe thead th {\n",
       "        text-align: right;\n",
       "    }\n",
       "</style>\n",
       "<table border=\"1\" class=\"dataframe\">\n",
       "  <thead>\n",
       "    <tr style=\"text-align: right;\">\n",
       "      <th></th>\n",
       "      <th>review_id</th>\n",
       "      <th>user_id</th>\n",
       "      <th>stars</th>\n",
       "      <th>useful</th>\n",
       "      <th>funny</th>\n",
       "      <th>cool</th>\n",
       "      <th>text</th>\n",
       "      <th>date</th>\n",
       "    </tr>\n",
       "    <tr>\n",
       "      <th>business_id</th>\n",
       "      <th></th>\n",
       "      <th></th>\n",
       "      <th></th>\n",
       "      <th></th>\n",
       "      <th></th>\n",
       "      <th></th>\n",
       "      <th></th>\n",
       "      <th></th>\n",
       "    </tr>\n",
       "  </thead>\n",
       "  <tbody>\n",
       "    <tr>\n",
       "      <th>RA4V8pr014UyUbDvI-LW2A</th>\n",
       "      <td>5wIrh0JHiHqeBwgm7K1FCQ</td>\n",
       "      <td>iCppbv3C7XvCyzIZnNQ7fg</td>\n",
       "      <td>3.0</td>\n",
       "      <td>0</td>\n",
       "      <td>0</td>\n",
       "      <td>0</td>\n",
       "      <td>Keep an eye on the register!  The price may no...</td>\n",
       "      <td>2008-12-30 13:27:20</td>\n",
       "    </tr>\n",
       "    <tr>\n",
       "      <th>RA4V8pr014UyUbDvI-LW2A</th>\n",
       "      <td>7XWbVm1RHBAio_9FmNRc_w</td>\n",
       "      <td>HnA4k2WObb00F4tW1MOhdg</td>\n",
       "      <td>3.0</td>\n",
       "      <td>1</td>\n",
       "      <td>1</td>\n",
       "      <td>0</td>\n",
       "      <td>I just got back from shopping for a baby showe...</td>\n",
       "      <td>2009-04-01 02:41:15</td>\n",
       "    </tr>\n",
       "    <tr>\n",
       "      <th>RA4V8pr014UyUbDvI-LW2A</th>\n",
       "      <td>8N9_tCjmoJkdTRD-R3xEpw</td>\n",
       "      <td>weEns7WVtPAgrHuxYpvwOg</td>\n",
       "      <td>4.0</td>\n",
       "      <td>1</td>\n",
       "      <td>0</td>\n",
       "      <td>0</td>\n",
       "      <td>Searching for a new pair of glasses can be a p...</td>\n",
       "      <td>2009-08-18 00:56:47</td>\n",
       "    </tr>\n",
       "    <tr>\n",
       "      <th>RA4V8pr014UyUbDvI-LW2A</th>\n",
       "      <td>oGqW0iZs7nHfNmbxJ0g16w</td>\n",
       "      <td>DTerWbIMkBafUJAKI1gaPw</td>\n",
       "      <td>2.0</td>\n",
       "      <td>0</td>\n",
       "      <td>0</td>\n",
       "      <td>0</td>\n",
       "      <td>I enjoy shopping at this Target, but I recentl...</td>\n",
       "      <td>2009-11-15 02:03:58</td>\n",
       "    </tr>\n",
       "    <tr>\n",
       "      <th>RA4V8pr014UyUbDvI-LW2A</th>\n",
       "      <td>frjVnWxasp0JzXqIIFV-tg</td>\n",
       "      <td>wXhM5a0NTk6Z82bQrg40cw</td>\n",
       "      <td>4.0</td>\n",
       "      <td>4</td>\n",
       "      <td>2</td>\n",
       "      <td>2</td>\n",
       "      <td>I have to say, I LOVE target. You can find eve...</td>\n",
       "      <td>2009-12-31 21:45:37</td>\n",
       "    </tr>\n",
       "    <tr>\n",
       "      <th>...</th>\n",
       "      <td>...</td>\n",
       "      <td>...</td>\n",
       "      <td>...</td>\n",
       "      <td>...</td>\n",
       "      <td>...</td>\n",
       "      <td>...</td>\n",
       "      <td>...</td>\n",
       "      <td>...</td>\n",
       "    </tr>\n",
       "    <tr>\n",
       "      <th>buF9druCkbuXLX526sGELQ</th>\n",
       "      <td>hZGwXXS3Z7s06vaVYrHIsg</td>\n",
       "      <td>cp_mCXj5NIVyQCr50qDKVw</td>\n",
       "      <td>1.0</td>\n",
       "      <td>3</td>\n",
       "      <td>1</td>\n",
       "      <td>3</td>\n",
       "      <td>If you've been looking for the restaurant wher...</td>\n",
       "      <td>2014-11-26 12:59:18</td>\n",
       "    </tr>\n",
       "    <tr>\n",
       "      <th>buF9druCkbuXLX526sGELQ</th>\n",
       "      <td>hpcZLEzqD4_gPi6eSVi_Bg</td>\n",
       "      <td>Y-j2svl0M_5-jF1ehYuNPQ</td>\n",
       "      <td>2.0</td>\n",
       "      <td>1</td>\n",
       "      <td>1</td>\n",
       "      <td>1</td>\n",
       "      <td>I was really disappointed to say the least. I ...</td>\n",
       "      <td>2014-11-30 00:24:42</td>\n",
       "    </tr>\n",
       "    <tr>\n",
       "      <th>buF9druCkbuXLX526sGELQ</th>\n",
       "      <td>LwJ94zq2s7gEmEQZQLr6Tg</td>\n",
       "      <td>u1Y6J-Ef4Skn8sJ1TpAoaw</td>\n",
       "      <td>1.0</td>\n",
       "      <td>5</td>\n",
       "      <td>2</td>\n",
       "      <td>0</td>\n",
       "      <td>NOW CLOSED.  Or so it certainly appears so cal...</td>\n",
       "      <td>2015-01-22 19:46:17</td>\n",
       "    </tr>\n",
       "    <tr>\n",
       "      <th>buF9druCkbuXLX526sGELQ</th>\n",
       "      <td>PimghCCm3d1bNIkx4glXow</td>\n",
       "      <td>g35OBHqo6AnJNMHSfp6IQw</td>\n",
       "      <td>1.0</td>\n",
       "      <td>1</td>\n",
       "      <td>1</td>\n",
       "      <td>0</td>\n",
       "      <td>I literally just tried to place an order at 9:...</td>\n",
       "      <td>2015-05-17 01:56:51</td>\n",
       "    </tr>\n",
       "    <tr>\n",
       "      <th>buF9druCkbuXLX526sGELQ</th>\n",
       "      <td>RHauXXCzMkpdB8ikZVrOOQ</td>\n",
       "      <td>t5SRIRU6INiAyVkiMJhRPA</td>\n",
       "      <td>1.0</td>\n",
       "      <td>0</td>\n",
       "      <td>1</td>\n",
       "      <td>0</td>\n",
       "      <td>Well, apparently Prides is closed. The non-aut...</td>\n",
       "      <td>2016-01-16 19:49:28</td>\n",
       "    </tr>\n",
       "  </tbody>\n",
       "</table>\n",
       "<p>151 rows × 8 columns</p>\n",
       "</div>"
      ],
      "text/plain": [
       "                                     review_id                 user_id  stars  \\\n",
       "business_id                                                                     \n",
       "RA4V8pr014UyUbDvI-LW2A  5wIrh0JHiHqeBwgm7K1FCQ  iCppbv3C7XvCyzIZnNQ7fg    3.0   \n",
       "RA4V8pr014UyUbDvI-LW2A  7XWbVm1RHBAio_9FmNRc_w  HnA4k2WObb00F4tW1MOhdg    3.0   \n",
       "RA4V8pr014UyUbDvI-LW2A  8N9_tCjmoJkdTRD-R3xEpw  weEns7WVtPAgrHuxYpvwOg    4.0   \n",
       "RA4V8pr014UyUbDvI-LW2A  oGqW0iZs7nHfNmbxJ0g16w  DTerWbIMkBafUJAKI1gaPw    2.0   \n",
       "RA4V8pr014UyUbDvI-LW2A  frjVnWxasp0JzXqIIFV-tg  wXhM5a0NTk6Z82bQrg40cw    4.0   \n",
       "...                                        ...                     ...    ...   \n",
       "buF9druCkbuXLX526sGELQ  hZGwXXS3Z7s06vaVYrHIsg  cp_mCXj5NIVyQCr50qDKVw    1.0   \n",
       "buF9druCkbuXLX526sGELQ  hpcZLEzqD4_gPi6eSVi_Bg  Y-j2svl0M_5-jF1ehYuNPQ    2.0   \n",
       "buF9druCkbuXLX526sGELQ  LwJ94zq2s7gEmEQZQLr6Tg  u1Y6J-Ef4Skn8sJ1TpAoaw    1.0   \n",
       "buF9druCkbuXLX526sGELQ  PimghCCm3d1bNIkx4glXow  g35OBHqo6AnJNMHSfp6IQw    1.0   \n",
       "buF9druCkbuXLX526sGELQ  RHauXXCzMkpdB8ikZVrOOQ  t5SRIRU6INiAyVkiMJhRPA    1.0   \n",
       "\n",
       "                        useful  funny  cool  \\\n",
       "business_id                                   \n",
       "RA4V8pr014UyUbDvI-LW2A       0      0     0   \n",
       "RA4V8pr014UyUbDvI-LW2A       1      1     0   \n",
       "RA4V8pr014UyUbDvI-LW2A       1      0     0   \n",
       "RA4V8pr014UyUbDvI-LW2A       0      0     0   \n",
       "RA4V8pr014UyUbDvI-LW2A       4      2     2   \n",
       "...                        ...    ...   ...   \n",
       "buF9druCkbuXLX526sGELQ       3      1     3   \n",
       "buF9druCkbuXLX526sGELQ       1      1     1   \n",
       "buF9druCkbuXLX526sGELQ       5      2     0   \n",
       "buF9druCkbuXLX526sGELQ       1      1     0   \n",
       "buF9druCkbuXLX526sGELQ       0      1     0   \n",
       "\n",
       "                                                                     text  \\\n",
       "business_id                                                                 \n",
       "RA4V8pr014UyUbDvI-LW2A  Keep an eye on the register!  The price may no...   \n",
       "RA4V8pr014UyUbDvI-LW2A  I just got back from shopping for a baby showe...   \n",
       "RA4V8pr014UyUbDvI-LW2A  Searching for a new pair of glasses can be a p...   \n",
       "RA4V8pr014UyUbDvI-LW2A  I enjoy shopping at this Target, but I recentl...   \n",
       "RA4V8pr014UyUbDvI-LW2A  I have to say, I LOVE target. You can find eve...   \n",
       "...                                                                   ...   \n",
       "buF9druCkbuXLX526sGELQ  If you've been looking for the restaurant wher...   \n",
       "buF9druCkbuXLX526sGELQ  I was really disappointed to say the least. I ...   \n",
       "buF9druCkbuXLX526sGELQ  NOW CLOSED.  Or so it certainly appears so cal...   \n",
       "buF9druCkbuXLX526sGELQ  I literally just tried to place an order at 9:...   \n",
       "buF9druCkbuXLX526sGELQ  Well, apparently Prides is closed. The non-aut...   \n",
       "\n",
       "                                       date  \n",
       "business_id                                  \n",
       "RA4V8pr014UyUbDvI-LW2A  2008-12-30 13:27:20  \n",
       "RA4V8pr014UyUbDvI-LW2A  2009-04-01 02:41:15  \n",
       "RA4V8pr014UyUbDvI-LW2A  2009-08-18 00:56:47  \n",
       "RA4V8pr014UyUbDvI-LW2A  2009-11-15 02:03:58  \n",
       "RA4V8pr014UyUbDvI-LW2A  2009-12-31 21:45:37  \n",
       "...                                     ...  \n",
       "buF9druCkbuXLX526sGELQ  2014-11-26 12:59:18  \n",
       "buF9druCkbuXLX526sGELQ  2014-11-30 00:24:42  \n",
       "buF9druCkbuXLX526sGELQ  2015-01-22 19:46:17  \n",
       "buF9druCkbuXLX526sGELQ  2015-05-17 01:56:51  \n",
       "buF9druCkbuXLX526sGELQ  2016-01-16 19:49:28  \n",
       "\n",
       "[151 rows x 8 columns]"
      ]
     },
     "execution_count": 29,
     "metadata": {},
     "output_type": "execute_result"
    }
   ],
   "source": [
    "test_reviews.sort_values(by=['business_id','date']).set_index('business_id')"
   ]
  },
  {
   "cell_type": "code",
   "execution_count": 83,
   "id": "5c600e09",
   "metadata": {},
   "outputs": [
    {
     "data": {
      "text/html": [
       "<div>\n",
       "<style scoped>\n",
       "    .dataframe tbody tr th:only-of-type {\n",
       "        vertical-align: middle;\n",
       "    }\n",
       "\n",
       "    .dataframe tbody tr th {\n",
       "        vertical-align: top;\n",
       "    }\n",
       "\n",
       "    .dataframe thead th {\n",
       "        text-align: right;\n",
       "    }\n",
       "</style>\n",
       "<table border=\"1\" class=\"dataframe\">\n",
       "  <thead>\n",
       "    <tr style=\"text-align: right;\">\n",
       "      <th></th>\n",
       "      <th>review_id</th>\n",
       "      <th>user_id</th>\n",
       "      <th>stars</th>\n",
       "      <th>useful</th>\n",
       "      <th>funny</th>\n",
       "      <th>cool</th>\n",
       "      <th>text</th>\n",
       "      <th>date</th>\n",
       "    </tr>\n",
       "    <tr>\n",
       "      <th>business_id</th>\n",
       "      <th></th>\n",
       "      <th></th>\n",
       "      <th></th>\n",
       "      <th></th>\n",
       "      <th></th>\n",
       "      <th></th>\n",
       "      <th></th>\n",
       "      <th></th>\n",
       "    </tr>\n",
       "  </thead>\n",
       "  <tbody>\n",
       "    <tr>\n",
       "      <th>RA4V8pr014UyUbDvI-LW2A</th>\n",
       "      <td>67</td>\n",
       "      <td>67</td>\n",
       "      <td>67</td>\n",
       "      <td>67</td>\n",
       "      <td>67</td>\n",
       "      <td>67</td>\n",
       "      <td>67</td>\n",
       "      <td>67</td>\n",
       "    </tr>\n",
       "    <tr>\n",
       "      <th>buF9druCkbuXLX526sGELQ</th>\n",
       "      <td>84</td>\n",
       "      <td>84</td>\n",
       "      <td>84</td>\n",
       "      <td>84</td>\n",
       "      <td>84</td>\n",
       "      <td>84</td>\n",
       "      <td>84</td>\n",
       "      <td>84</td>\n",
       "    </tr>\n",
       "  </tbody>\n",
       "</table>\n",
       "</div>"
      ],
      "text/plain": [
       "                        review_id  user_id  stars  useful  funny  cool  text  \\\n",
       "business_id                                                                    \n",
       "RA4V8pr014UyUbDvI-LW2A         67       67     67      67     67    67    67   \n",
       "buF9druCkbuXLX526sGELQ         84       84     84      84     84    84    84   \n",
       "\n",
       "                        date  \n",
       "business_id                   \n",
       "RA4V8pr014UyUbDvI-LW2A    67  \n",
       "buF9druCkbuXLX526sGELQ    84  "
      ]
     },
     "execution_count": 83,
     "metadata": {},
     "output_type": "execute_result"
    }
   ],
   "source": [
    "test_reviews.groupby('business_id').count()"
   ]
  },
  {
   "cell_type": "code",
   "execution_count": null,
   "id": "a5752782",
   "metadata": {},
   "outputs": [],
   "source": []
  }
 ],
 "metadata": {
  "kernelspec": {
   "display_name": "Python 3",
   "language": "python",
   "name": "python3"
  },
  "language_info": {
   "codemirror_mode": {
    "name": "ipython",
    "version": 3
   },
   "file_extension": ".py",
   "mimetype": "text/x-python",
   "name": "python",
   "nbconvert_exporter": "python",
   "pygments_lexer": "ipython3",
   "version": "3.9.0"
  }
 },
 "nbformat": 4,
 "nbformat_minor": 5
}
